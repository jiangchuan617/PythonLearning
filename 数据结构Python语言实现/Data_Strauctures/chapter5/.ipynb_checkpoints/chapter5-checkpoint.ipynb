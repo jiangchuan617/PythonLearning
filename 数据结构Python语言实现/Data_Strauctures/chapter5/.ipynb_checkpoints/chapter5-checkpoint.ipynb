{
 "cells": [
  {
   "cell_type": "code",
   "execution_count": 1,
   "metadata": {},
   "outputs": [],
   "source": [
    "'''\n",
    "File:beginterface.py\n",
    "Author:chongxiaoyan\n",
    "'''\n",
    "class BagInterface(object):\n",
    "    '''Interface for all bag types.'''\n",
    "    #Constructor\n",
    "    def __init__(self,sourceCollection=None):\n",
    "        '''sets the initial state of self,which includes the contents of sourceCollection,if it's present'''\n",
    "        pass\n",
    "    \n",
    "    #accessor methods存取器方法\n",
    "    def isEmpty(self):\n",
    "        '''Returns True if len(self)==0,or False otherwise.'''\n",
    "        return True\n",
    "    \n",
    "    def __len__(self):\n",
    "        '''Retuns the number of items of self.'''\n",
    "        return 0\n",
    "    \n",
    "    def __str__(self):\n",
    "        '''Returns the string representation of self.'''\n",
    "        return ''\n",
    "    \n",
    "    def __iter__(self):\n",
    "        '''Supports iteration over a view of self.'''\n",
    "        return None\n",
    "    \n",
    "    def __add__(self,other):\n",
    "        '''Returns a new bag containing the contents of self and other'''\n",
    "        return None\n",
    "    \n",
    "    def __eq__(self,other):\n",
    "        '''Returns True if self equals other,or False otherwise'''\n",
    "        return False\n",
    "    \n",
    "    #Mutator methods\n",
    "    def clear(self):\n",
    "        '''Make self become empty.'''\n",
    "        pass\n",
    "    \n",
    "    def add(self,item):\n",
    "        '''Adds item to self'''\n",
    "        pass\n",
    "\n",
    "    def remove(self,item):\n",
    "        '''Precondition:item is in self.\n",
    "        Raises:Keyerror if item is not in self.\n",
    "        Postcondition:item is removed from self.'''\n",
    "        pass"
   ]
  },
  {
   "cell_type": "code",
   "execution_count": 1,
   "metadata": {},
   "outputs": [
    {
     "ename": "SyntaxError",
     "evalue": "invalid syntax (<ipython-input-1-bbc484ad4aef>, line 14)",
     "output_type": "error",
     "traceback": [
      "\u001b[0;36m  File \u001b[0;32m\"<ipython-input-1-bbc484ad4aef>\"\u001b[0;36m, line \u001b[0;32m14\u001b[0m\n\u001b[0;31m    def __len__(self)\u001b[0m\n\u001b[0m                     ^\u001b[0m\n\u001b[0;31mSyntaxError\u001b[0m\u001b[0;31m:\u001b[0m invalid syntax\n"
     ]
    }
   ],
   "source": [
    "from arrays import Array\n",
    "class ArrayBag(object):\n",
    "    Default_capcity=10\n",
    "    def __init__(self,sourceCollection=None):\n",
    "        self._items=Array(ArrayBag.Default_capcity)\n",
    "        self.size=0\n",
    "        if sourceCollection:\n",
    "            for item in sourceCollection:\n",
    "                self.add(item)\n",
    "    \n",
    "    def isEmpty(self):\n",
    "        return len(self)==0\n",
    "    \n",
    "    def __len__(self):\n",
    "        return self._size\n",
    "    \n",
    "    def clear(self):\n",
    "        self._size=0\n",
    "        self._items=Array(ArrayBag.Default_capcity)\n",
    "        \n",
    "    def add(self,item):\n",
    "        self._items[len(self)]=item\n",
    "        self._size+=1\n",
    "    \n",
    "    def __iter__(self):\n",
    "        cursor=0\n",
    "        while cursor<len(self):\n",
    "            yield self._items[cursor]#yield 生成一个iterable 对象\n",
    "            cursor+=1\n",
    "            "
   ]
  },
  {
   "cell_type": "code",
   "execution_count": null,
   "metadata": {},
   "outputs": [],
   "source": []
  }
 ],
 "metadata": {
  "kernelspec": {
   "display_name": "Python 3",
   "language": "python",
   "name": "python3"
  },
  "language_info": {
   "codemirror_mode": {
    "name": "ipython",
    "version": 3
   },
   "file_extension": ".py",
   "mimetype": "text/x-python",
   "name": "python",
   "nbconvert_exporter": "python",
   "pygments_lexer": "ipython3",
   "version": "3.6.2"
  }
 },
 "nbformat": 4,
 "nbformat_minor": 2
}
