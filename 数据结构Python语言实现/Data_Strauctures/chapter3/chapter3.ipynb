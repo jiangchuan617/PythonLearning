{
 "cells": [
  {
   "cell_type": "code",
   "execution_count": 2,
   "metadata": {},
   "outputs": [
    {
     "name": "stdout",
     "output_type": "stream",
     "text": [
      "problem size         Seconds\n",
      "    10000000           1.386\n",
      "    20000000           2.813\n",
      "    40000000           5.512\n",
      "    80000000          10.968\n",
      "   160000000          21.735\n"
     ]
    }
   ],
   "source": [
    "import time \n",
    "problemSize=10000000\n",
    "print('%12s%16s'%('problem size','Seconds'))\n",
    "for count in range(5):\n",
    "    start=time.time()\n",
    "    work=1\n",
    "    for x in range(problemSize):\n",
    "        work+=1\n",
    "        work-=1\n",
    "    elapsed=time.time()-start\n",
    "    print('%12d%16.3f'%(problemSize,elapsed))\n",
    "    problemSize*=2\n",
    "    "
   ]
  },
  {
   "cell_type": "code",
   "execution_count": 6,
   "metadata": {},
   "outputs": [
    {
     "name": "stdout",
     "output_type": "stream",
     "text": [
      " problemSize          calls\n",
      "           2              1\n",
      "           4              5\n",
      "           8             41\n",
      "          16           1973\n",
      "          32        4356617\n"
     ]
    }
   ],
   "source": [
    "from counter import Counter\n",
    "def fib(n,counter):\n",
    "    counter.increment()\n",
    "    if n<3:\n",
    "        return 1\n",
    "    else:\n",
    "        return fib(n-1,counter)+fib(n-2,counter)\n",
    "\n",
    "    \n",
    "problemSize=2\n",
    "print('%12s%15s'%('problemSize','calls'))\n",
    "for count in range(5):\n",
    "    counter=Counter()\n",
    "    fib(problemSize,counter)\n",
    "    print('%12d%15s'%(problemSize,counter))\n",
    "    problemSize*=2"
   ]
  },
  {
   "cell_type": "code",
   "execution_count": 7,
   "metadata": {},
   "outputs": [],
   "source": [
    "#查找最小索引\n",
    "def indexOfMin(lyst):\n",
    "    minIndex=0\n",
    "    currentIndex = 1\n",
    "    while current<len(lyst):\n",
    "        if lyst[currentIndex]<lyst[minIndex]:\n",
    "            minIndex=currentIndex\n",
    "        currentIndex+=1\n",
    "    return minIndex\n"
   ]
  },
  {
   "cell_type": "code",
   "execution_count": 8,
   "metadata": {},
   "outputs": [],
   "source": [
    "#顺序查找\n",
    "def sequentialSearch(target,lyst):\n",
    "    position = 0\n",
    "    while position<len(lyst):\n",
    "        if target == lyst[position]:\n",
    "            return position\n",
    "        position+=1\n",
    "    return -1"
   ]
  },
  {
   "cell_type": "code",
   "execution_count": 11,
   "metadata": {},
   "outputs": [
    {
     "data": {
      "text/plain": [
       "0"
      ]
     },
     "execution_count": 11,
     "metadata": {},
     "output_type": "execute_result"
    }
   ],
   "source": [
    "#二分查找\n",
    "def binarySearch(target,sortedLyst):\n",
    "    left=0\n",
    "    right=len(sortedLyst)-1\n",
    "    while left<=right:\n",
    "        midpoint=left+(right-left)//2\n",
    "        if target==sortedLyst[midpoint]:\n",
    "            return midpoint\n",
    "        elif target<sortedLyst[midpoint]:\n",
    "            right=midpoint-1\n",
    "        else:\n",
    "            left=midpoint+1\n",
    "    return -1\n",
    "mylist=[1,2,3,4,5,6]\n",
    "binarySearch(1,mylist)"
   ]
  },
  {
   "cell_type": "code",
   "execution_count": 17,
   "metadata": {},
   "outputs": [
    {
     "name": "stdout",
     "output_type": "stream",
     "text": [
      "False\n",
      "True\n",
      "True\n"
     ]
    }
   ],
   "source": [
    "class SavingsAccount(object):\n",
    "    def __init__(self,name,pin,balance=0.0):\n",
    "        self._name=name \n",
    "        self._pin = pin\n",
    "        self._balance=balance\n",
    "    def __lt__(self,other):\n",
    "        return self._name<other._name\n",
    "    def __eq__(self,other):\n",
    "        return self._name==other._name\n",
    "    def __gt__(self,other):\n",
    "        return self._name>other._name\n",
    "s1=SavingsAccount('ken','1000',0)\n",
    "s2=SavingsAccount('Bill','1001',30)\n",
    "s3=SavingsAccount('Bill','1000',30)\n",
    "print(s1<s2)\n",
    "print(s2==s3)\n",
    "s4=s1\n",
    "print(s4==s1)"
   ]
  },
  {
   "cell_type": "code",
   "execution_count": 19,
   "metadata": {},
   "outputs": [],
   "source": [
    "def swap(lyst,i,j):\n",
    "    temp=lyst[i]\n",
    "    lyst[i]=lyst[j]\n",
    "    lyst[j]=temp"
   ]
  },
  {
   "cell_type": "code",
   "execution_count": 23,
   "metadata": {},
   "outputs": [
    {
     "data": {
      "text/plain": [
       "[1, 2, 3, 4, 5, 6]"
      ]
     },
     "execution_count": 23,
     "metadata": {},
     "output_type": "execute_result"
    }
   ],
   "source": [
    "#选择排序\n",
    "def selectionSort(lyst):\n",
    "    i=0\n",
    "    while i<len(lyst)-1:\n",
    "        minIndex=i\n",
    "        j=i+1\n",
    "        while j<len(lyst):\n",
    "            if lyst[j]<lyst[minIndex]:\n",
    "                minIndex=j\n",
    "            j+=1\n",
    "        if minIndex!=i:\n",
    "            swap(lyst,minIndex,i)\n",
    "        i+=1\n",
    "    return lyst\n",
    "mylist=[6,5,4,3,2,1]\n",
    "selectionSort(mylist)"
   ]
  },
  {
   "cell_type": "code",
   "execution_count": 27,
   "metadata": {},
   "outputs": [
    {
     "name": "stdout",
     "output_type": "stream",
     "text": [
      "[5, 4, 3, 2, 1, 6]\n",
      "[4, 3, 2, 1, 5, 6]\n",
      "[3, 2, 1, 4, 5, 6]\n",
      "[2, 1, 3, 4, 5, 6]\n",
      "[1, 2, 3, 4, 5, 6]\n"
     ]
    }
   ],
   "source": [
    "#冒泡排序\n",
    "def bubbleSort(lyst):\n",
    "    n=len(lyst)\n",
    "    while n>1:\n",
    "        i=1\n",
    "        while i<n:\n",
    "            if lyst[i]<lyst[i-1]:#其实是沉底算法\n",
    "                swap(lyst,i,i-1)\n",
    "            i+=1\n",
    "        n-=1\n",
    "        print(lyst)\n",
    "    #return lyst\n",
    "\n",
    "mylist=[6,5,4,3,2,1]\n",
    "bubbleSort(mylist)"
   ]
  },
  {
   "cell_type": "code",
   "execution_count": 30,
   "metadata": {},
   "outputs": [
    {
     "data": {
      "text/plain": [
       "[1, 2, 3, 4, 5, 6]"
      ]
     },
     "execution_count": 30,
     "metadata": {},
     "output_type": "execute_result"
    }
   ],
   "source": [
    "#修改的冒泡排序\n",
    "def bubbleSortWithTweak(lyst):\n",
    "    n=len(lyst)\n",
    "    while n>1:\n",
    "        swaped=False\n",
    "        i=1\n",
    "        while i<n:\n",
    "            if lyst[i]<lyst[i-1]:\n",
    "                swap(lyst,i,i-1)\n",
    "                swaped=True\n",
    "            i+=1\n",
    "        if not swaped:return\n",
    "        n-=1\n",
    "    \n",
    "mylist=[6,5,4,3,2,1]\n",
    "bubbleSortWithTweak(mylist)\n",
    "mylist"
   ]
  },
  {
   "cell_type": "code",
   "execution_count": 33,
   "metadata": {},
   "outputs": [
    {
     "name": "stdout",
     "output_type": "stream",
     "text": [
      "[1, 2, 3, 4, 5, 6]\n"
     ]
    }
   ],
   "source": [
    "#插入排序\n",
    "def insertionSort(lyst):\n",
    "    L=len(lyst)\n",
    "    for i in range(1,L):\n",
    "        key=lyst[i]\n",
    "        j=i\n",
    "        while j>0 & key<lyst[j-1]:\n",
    "            lyst[j]=lyst[j-1]\n",
    "            j-=1\n",
    "        lyst[j]=key\n",
    "    return lyst\n",
    "mylist=[6,5,4,3,2,1] \n",
    "insertionSort(mylist)\n",
    "print(mylist)"
   ]
  },
  {
   "cell_type": "code",
   "execution_count": 50,
   "metadata": {},
   "outputs": [
    {
     "name": "stdout",
     "output_type": "stream",
     "text": [
      "size= 20000 排序时间 0.12193679809570312\n"
     ]
    }
   ],
   "source": [
    "#快速排序\n",
    "import random\n",
    "import numpy as np\n",
    "import time\n",
    "def quickSort(lyst,lo,hi):#hi取不到\n",
    "    if hi>lo:\n",
    "        q=partition(lyst,lo,hi)\n",
    "        quickSort(lyst,lo,q)\n",
    "        quickSort(lyst,q+1,hi)\n",
    "def partition(lyst,left,right):#right取不到\n",
    "    key=lyst[right-1]\n",
    "    i=left\n",
    "    for j in range(left,right-1):\n",
    "        if lyst[j]<=key:\n",
    "            swap(lyst,i,j)\n",
    "            i+=1\n",
    "    swap(lyst,i,right-1)\n",
    "    return i\n",
    "def swap(lyst,i,j):\n",
    "    temp=lyst[i]\n",
    "    lyst[i]=lyst[j]\n",
    "    lyst[j]=temp\n",
    "    \n",
    "def main(size=20000,sort=quickSort):\n",
    "    toc=time.time()\n",
    "    lyst=[]\n",
    "    for count in range(size):\n",
    "        lyst.append(random.randint(1,size+1))\n",
    "    \n",
    "    #print(lyst)\n",
    "    #print(partition(lyst,0,size))\n",
    "    toc=time.time()\n",
    "    sort(lyst,0,size)\n",
    "    tic=time.time()\n",
    "    #print(lyst)\n",
    "    print('size=',size,'排序时间',tic-toc)\n",
    "    \n",
    "if __name__=='__main__':\n",
    "    main()\n",
    "            \n",
    "        "
   ]
  },
  {
   "cell_type": "code",
   "execution_count": 1,
   "metadata": {},
   "outputs": [
    {
     "ename": "ModuleNotFoundError",
     "evalue": "No module named 'arrays'",
     "output_type": "error",
     "traceback": [
      "\u001b[0;31m------------------------------------------------\u001b[0m",
      "\u001b[0;31mModuleNotFoundError\u001b[0mTraceback (most recent call last)",
      "\u001b[0;32m<ipython-input-1-9a0f034da8fe>\u001b[0m in \u001b[0;36m<module>\u001b[0;34m()\u001b[0m\n\u001b[1;32m      1\u001b[0m \u001b[0;31m#归并排序，代码有问题\u001b[0m\u001b[0;34m\u001b[0m\u001b[0;34m\u001b[0m\u001b[0m\n\u001b[0;32m----> 2\u001b[0;31m \u001b[0;32mfrom\u001b[0m \u001b[0marrays\u001b[0m \u001b[0;32mimport\u001b[0m \u001b[0mArray\u001b[0m\u001b[0;34m\u001b[0m\u001b[0m\n\u001b[0m\u001b[1;32m      3\u001b[0m \u001b[0;32mimport\u001b[0m \u001b[0mrandom\u001b[0m\u001b[0;34m\u001b[0m\u001b[0m\n\u001b[1;32m      4\u001b[0m \u001b[0;32mimport\u001b[0m \u001b[0mtime\u001b[0m\u001b[0;34m\u001b[0m\u001b[0m\n\u001b[1;32m      5\u001b[0m \u001b[0;32mdef\u001b[0m \u001b[0mmergeSort\u001b[0m\u001b[0;34m(\u001b[0m\u001b[0mlyst\u001b[0m\u001b[0;34m)\u001b[0m\u001b[0;34m:\u001b[0m\u001b[0;34m\u001b[0m\u001b[0m\n",
      "\u001b[0;31mModuleNotFoundError\u001b[0m: No module named 'arrays'"
     ]
    }
   ],
   "source": [
    "#归并排序，代码有问题\n",
    "from arrays import Array\n",
    "import random\n",
    "import time\n",
    "def mergeSort(lyst):\n",
    "    copyBuffer=Array(len(lyst))\n",
    "    mergeSortHelper(lyst,copyBuffer,0,len(lyst)-1)\n",
    "\n",
    "def mergeSortHelper(lyst,copyBuffer,left,right):\n",
    "    if left < right:\n",
    "        mid=left+(right-left)//2\n",
    "        mergeSortHelper(lyst,copyBuffer,left,mid)\n",
    "        mergeSortHelper(lyst,copyBuffer,mid+1,right)\n",
    "        merge(lyst,copyBuffer,left,mid,right)\n",
    "    \n",
    "def merge(lyst,copyBuffer,left,mid,right):\n",
    "    i1=left\n",
    "    i2=mid+1\n",
    "    for i in range(left,right+1):\n",
    "        if i1>mid:\n",
    "            copyBuffer[i]=lyst[i2]\n",
    "            i2+=1\n",
    "        elif i2>right:\n",
    "            copyBuffer[i]=lyst[i1]\n",
    "            i1+=1\n",
    "        elif lyst[i1]<lyst[i2]:\n",
    "            copyBuffer[i]=lyst[i1]\n",
    "            i1+=1\n",
    "        else:\n",
    "            copyBuffer[i]=lyst[i2]\n",
    "            i2+=1\n",
    "    for i in range(left,right+1):\n",
    "        lyst[i]=copyBuffer[i]\n",
    "        \n",
    "lyst=[]\n",
    "for count in range(size):\n",
    "    lyst.append(random.randint(1,size+1))\n",
    "tic=time.time()\n",
    "mergeSort(lyst)\n",
    "print(time.time()-tic)\n"
   ]
  },
  {
   "cell_type": "code",
   "execution_count": 2,
   "metadata": {},
   "outputs": [
    {
     "name": "stdout",
     "output_type": "stream",
     "text": [
      "排序之前：[67, 93, 57, 79, 15, 26, 53, 50, 99, 15]\n",
      "排序之后：[15, 15, 26, 50, 53, 57, 67, 79, 93, 99]\n"
     ]
    }
   ],
   "source": [
    "#coding: utf-8 \n",
    "#!/usr/bin/python   \n",
    "import random\n",
    "\n",
    "#随机生成0~100之间的数值\n",
    "def get_andomNumber(num):  \n",
    "    lists=[]  \n",
    "    i=0  \n",
    "    while i<num:  \n",
    "        lists.append(random.randint(0,100))  \n",
    "        i+=1\n",
    "    return lists\n",
    "\n",
    "# 归并排序\n",
    "def merge(left, right):\n",
    "    i, j = 0, 0\n",
    "    result = []\n",
    "    while i < len(left) and j < len(right):\n",
    "        if left[i] <= right[j]:\n",
    "            result.append(left[i])\n",
    "            i += 1\n",
    "        else:\n",
    "            result.append(right[j])\n",
    "            j += 1\n",
    "    result += left[i:]\n",
    "    result += right[j:]\n",
    "    return result\n",
    "\n",
    "def merge_sort(lists):\n",
    "    if len(lists) <= 1:\n",
    "        return lists\n",
    "    num = len(lists) // 2  # python3 整数除法/会变浮点，改为//\n",
    "    left = merge_sort(lists[:num])\n",
    "    right = merge_sort(lists[num:])\n",
    "    return merge(left, right)\n",
    "\n",
    "a = get_andomNumber(10)\n",
    "print(\"排序之前：%s\" %a)\n",
    "\n",
    "b = merge_sort(a)\n",
    "\n",
    "print(\"排序之后：%s\" %b)"
   ]
  },
  {
   "cell_type": "code",
   "execution_count": 10,
   "metadata": {},
   "outputs": [
    {
     "name": "stdout",
     "output_type": "stream",
     "text": [
      "0.00029778480529785156\n"
     ]
    }
   ],
   "source": [
    "#fibonacci\n",
    "import time\n",
    "\n",
    "def fib(n):\n",
    "    sum=1\n",
    "    first=1\n",
    "    second=1\n",
    "    count=3\n",
    "    while count<n:\n",
    "        sum=first +second\n",
    "        first=second\n",
    "        second=sum\n",
    "        count+=1\n",
    "    return sum\n",
    "toc=time.time()\n",
    "fib(1000)\n",
    "print(time.time()-toc)"
   ]
  },
  {
   "cell_type": "code",
   "execution_count": null,
   "metadata": {},
   "outputs": [],
   "source": []
  },
  {
   "cell_type": "code",
   "execution_count": null,
   "metadata": {},
   "outputs": [],
   "source": []
  }
 ],
 "metadata": {
  "kernelspec": {
   "display_name": "Python 3",
   "language": "python",
   "name": "python3"
  },
  "language_info": {
   "codemirror_mode": {
    "name": "ipython",
    "version": 3
   },
   "file_extension": ".py",
   "mimetype": "text/x-python",
   "name": "python",
   "nbconvert_exporter": "python",
   "pygments_lexer": "ipython3",
   "version": "3.6.2"
  }
 },
 "nbformat": 4,
 "nbformat_minor": 2
}
