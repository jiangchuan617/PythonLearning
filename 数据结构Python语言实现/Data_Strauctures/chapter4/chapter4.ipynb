{
 "cells": [
  {
   "cell_type": "code",
   "execution_count": 5,
   "metadata": {},
   "outputs": [
    {
     "name": "stdout",
     "output_type": "stream",
     "text": [
      "5\n",
      "[None, None, None, None, None]\n",
      "1\n",
      "1\n",
      "2\n",
      "3\n",
      "4\n",
      "5\n",
      "<class '__main__.Array'>\n"
     ]
    }
   ],
   "source": [
    "#数组\n",
    "class Array(object):\n",
    "    \n",
    "    def __init__(self,capacity,fillValue=None):\n",
    "        self._items=list()\n",
    "        for count in range(capacity):\n",
    "            self._items.append(fillValue)\n",
    "    \n",
    "    def __len__(self):\n",
    "        return len(self._items)\n",
    "    \n",
    "    def __str__(self):\n",
    "        return str(self._items)\n",
    "    \n",
    "    def __iter__(self):\n",
    "        return iter(self._items)\n",
    "    \n",
    "    def __getitem__(self,index):\n",
    "        return self._items[index]\n",
    "    \n",
    "    def __setitem__(self,index,newItem):\n",
    "        self._items[index]=newItem\n",
    "        \n",
    "#from arrays import Array\n",
    "a=Array(5)\n",
    "print(len(a))\n",
    "print(a)\n",
    "for i in range(len(a)):\n",
    "    a[i]=i+1\n",
    "print(a[0])\n",
    "for item in a:\n",
    "    print(item)\n",
    "#数组是列表一个非常收到限制的版本\n",
    "b=a\n"
   ]
  },
  {
   "cell_type": "code",
   "execution_count": 6,
   "metadata": {},
   "outputs": [],
   "source": [
    "#数组扩容\n",
    "Default_capacity=5#物理容量\n",
    "logicalSize=0#初始容量\n",
    "a=Array(Default_capacity)\n",
    "\n",
    "if logicalSize==len(a):#此时物理容量等于逻辑容量\n",
    "    temp=Array(len(a)*2)\n",
    "    for i in range(len(a)):\n",
    "        temp[i]=a[i]\n",
    "    a=temp"
   ]
  },
  {
   "cell_type": "code",
   "execution_count": 7,
   "metadata": {},
   "outputs": [],
   "source": [
    "#数组缩容\n",
    "if logicalSize<=len(a)//4 and len(a)>=Default_capacity*2:\n",
    "    temp=Array(len(a)//2)\n",
    "    for i in range(len(a)):\n",
    "        temp[i]=a[i]\n",
    "    a=temp\n"
   ]
  },
  {
   "cell_type": "code",
   "execution_count": 11,
   "metadata": {},
   "outputs": [],
   "source": [
    "#在数组中插入一项\n",
    "#从最后一位开始，插入位置之后的项依次后移一位\n",
    "targetIndex=1\n",
    "newItem=7\n",
    "for i in range(logicalSize,targetIndex,-1):\n",
    "    a[i]=a[i-1]\n",
    "#插入新的项\n",
    "a[targetIndex]=newItem\n",
    "logicalSize+=1"
   ]
  },
  {
   "cell_type": "code",
   "execution_count": 9,
   "metadata": {},
   "outputs": [
    {
     "name": "stdout",
     "output_type": "stream",
     "text": [
      "5\n",
      "4\n",
      "3\n",
      "2\n"
     ]
    }
   ],
   "source": [
    "#从数组中删除一项\n",
    "#找到索引位置，依次将后一位赋值到前一位\n",
    "for i in range(targetIndex,logicalSize-1):\n",
    "    a[i]=a[i+1]\n",
    "logicalSize-=1\n",
    "#可以减小物理大小\n"
   ]
  },
  {
   "cell_type": "code",
   "execution_count": 21,
   "metadata": {},
   "outputs": [
    {
     "name": "stdout",
     "output_type": "stream",
     "text": [
      "0 0 0 \n",
      "0 1 2 \n",
      "0 2 4 \n",
      "\n"
     ]
    }
   ],
   "source": [
    "#二维数组\n",
    "class Grid(object):\n",
    "    def __init__(self,rows,columns,fillValue=None):\n",
    "        self._data=Array(rows)\n",
    "        for row in range(rows):\n",
    "            self._data[row]=Array(columns,fillValue)\n",
    "    def getHeight(self):\n",
    "        return len(self._data)\n",
    "    \n",
    "    def getWidth(self):\n",
    "        return len(self._data[0])\n",
    "    \n",
    "    def __getitem__(self,index):\n",
    "        return self._data[index]#第几行\n",
    "    \n",
    "    def __str__(self):\n",
    "        result=''\n",
    "        for row in range(self.getHeight()):\n",
    "            for column in range(self.getWidth()):\n",
    "                result+=str(self._data[row][column])+' '\n",
    "            result+='\\n'\n",
    "        return result\n",
    "    \n",
    "table=Grid(4,5,1)\n",
    "#print(table)\n",
    "matrix=Grid(3,3)\n",
    "for row in range(matrix.getHeight()):\n",
    "    for col in range(matrix.getWidth()):\n",
    "        matrix[row][col]=row*col\n",
    "print(matrix)"
   ]
  },
  {
   "cell_type": "code",
   "execution_count": 1,
   "metadata": {},
   "outputs": [],
   "source": [
    "#链表\n",
    "#定义一个单链表的节点类\n",
    "class Node(object):\n",
    "    def __init__(self,data,next=None):\n",
    "        self.data=data\n",
    "        self.next=next\n",
    "#使用单链表节点类\n",
    "node1=None\n",
    "node2=Node('A',None)\n",
    "node3=Node('B',node2)\n",
    "node1=Node('C',node3)\n"
   ]
  },
  {
   "cell_type": "code",
   "execution_count": 6,
   "metadata": {},
   "outputs": [
    {
     "name": "stdout",
     "output_type": "stream",
     "text": [
      "5\n",
      "4\n",
      "3\n",
      "2\n",
      "1\n"
     ]
    }
   ],
   "source": [
    "head = None \n",
    "for count in range(1,6):\n",
    "    head=Node(count,head)\n",
    "\n",
    "\n",
    "while head !=None:\n",
    "    print(head.data)\n",
    "    head=head.next\n"
   ]
  },
  {
   "cell_type": "code",
   "execution_count": 7,
   "metadata": {},
   "outputs": [],
   "source": [
    "#遍历\n",
    "probe=head\n",
    "while probe!=None:\n",
    "    probe=probe.next\n",
    "    "
   ]
  },
  {
   "cell_type": "code",
   "execution_count": 8,
   "metadata": {},
   "outputs": [
    {
     "name": "stdout",
     "output_type": "stream",
     "text": [
      "5\n",
      "4\n",
      "3\n",
      "2\n",
      "1\n"
     ]
    }
   ],
   "source": [
    "class TwoWayNode(Node):\n",
    "    def __init__(self,data,previous=None,next=None):\n",
    "        Node.__init__(self,data,next)\n",
    "        self.previous=previous\n",
    "\n",
    "head = TwoWayNode(1)\n",
    "tail=head\n",
    "for data in range(2,6):\n",
    "    tail.next=TwoWayNode(data,tail)\n",
    "    tail=tail.next\n",
    "\n",
    "probe=tail\n",
    "while probe!=None:\n",
    "    print(probe.data)\n",
    "    probe=probe.previous"
   ]
  },
  {
   "cell_type": "code",
   "execution_count": null,
   "metadata": {},
   "outputs": [],
   "source": []
  }
 ],
 "metadata": {
  "kernelspec": {
   "display_name": "Python 3",
   "language": "python",
   "name": "python3"
  },
  "language_info": {
   "codemirror_mode": {
    "name": "ipython",
    "version": 3
   },
   "file_extension": ".py",
   "mimetype": "text/x-python",
   "name": "python",
   "nbconvert_exporter": "python",
   "pygments_lexer": "ipython3",
   "version": "3.6.2"
  }
 },
 "nbformat": 4,
 "nbformat_minor": 2
}
