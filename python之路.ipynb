{
 "cells": [
  {
   "cell_type": "markdown",
   "metadata": {},
   "source": [
    "# PYTHON基础"
   ]
  },
  {
   "cell_type": "markdown",
   "metadata": {},
   "source": [
    "## 求绝对值"
   ]
  },
  {
   "cell_type": "code",
   "execution_count": 1,
   "metadata": {
    "ExecuteTime": {
     "end_time": "2020-06-02T06:29:01.658769Z",
     "start_time": "2020-06-02T06:29:01.638014Z"
    },
    "scrolled": true
   },
   "outputs": [
    {
     "data": {
      "text/plain": [
       "6"
      ]
     },
     "execution_count": 1,
     "metadata": {},
     "output_type": "execute_result"
    }
   ],
   "source": [
    "# 绝对值或复数的模\n",
    "abs(-6)"
   ]
  },
  {
   "cell_type": "code",
   "execution_count": 2,
   "metadata": {
    "ExecuteTime": {
     "end_time": "2020-06-02T06:29:01.672793Z",
     "start_time": "2020-06-02T06:29:01.664637Z"
    }
   },
   "outputs": [
    {
     "data": {
      "text/plain": [
       "5.0"
      ]
     },
     "execution_count": 2,
     "metadata": {},
     "output_type": "execute_result"
    }
   ],
   "source": [
    "abs(complex(3,4))"
   ]
  },
  {
   "cell_type": "markdown",
   "metadata": {},
   "source": [
    "## 元素都为真"
   ]
  },
  {
   "cell_type": "code",
   "execution_count": 3,
   "metadata": {
    "ExecuteTime": {
     "end_time": "2020-06-02T06:29:01.689718Z",
     "start_time": "2020-06-02T06:29:01.682924Z"
    }
   },
   "outputs": [
    {
     "data": {
      "text/plain": [
       "False"
      ]
     },
     "execution_count": 3,
     "metadata": {},
     "output_type": "execute_result"
    }
   ],
   "source": [
    "# 接受一个迭代器，如果迭代器的所有元素都为真，那么返回 True，否则返回 False\n",
    "all([1,0,3,6])"
   ]
  },
  {
   "cell_type": "code",
   "execution_count": 4,
   "metadata": {
    "ExecuteTime": {
     "end_time": "2020-06-02T06:29:01.700419Z",
     "start_time": "2020-06-02T06:29:01.694008Z"
    }
   },
   "outputs": [
    {
     "data": {
      "text/plain": [
       "True"
      ]
     },
     "execution_count": 4,
     "metadata": {},
     "output_type": "execute_result"
    }
   ],
   "source": [
    "all([1,2,3])"
   ]
  },
  {
   "cell_type": "markdown",
   "metadata": {},
   "source": [
    "## 元素至少一个为真"
   ]
  },
  {
   "cell_type": "code",
   "execution_count": 5,
   "metadata": {
    "ExecuteTime": {
     "end_time": "2020-06-02T06:29:01.711901Z",
     "start_time": "2020-06-02T06:29:01.705333Z"
    }
   },
   "outputs": [
    {
     "data": {
      "text/plain": [
       "False"
      ]
     },
     "execution_count": 5,
     "metadata": {},
     "output_type": "execute_result"
    }
   ],
   "source": [
    "# 接受一个迭代器，如果迭代器里至少有一个元素为真，那么返回 True，否则返回 False\n",
    "any([0,0,0,[]])"
   ]
  },
  {
   "cell_type": "code",
   "execution_count": 6,
   "metadata": {
    "ExecuteTime": {
     "end_time": "2020-06-02T06:29:01.725825Z",
     "start_time": "2020-06-02T06:29:01.716162Z"
    }
   },
   "outputs": [
    {
     "data": {
      "text/plain": [
       "True"
      ]
     },
     "execution_count": 6,
     "metadata": {},
     "output_type": "execute_result"
    }
   ],
   "source": [
    "any([0,0,1])"
   ]
  },
  {
   "cell_type": "markdown",
   "metadata": {},
   "source": [
    "## ascii 展示对象"
   ]
  },
  {
   "cell_type": "code",
   "execution_count": 7,
   "metadata": {
    "ExecuteTime": {
     "end_time": "2020-06-02T06:29:01.744658Z",
     "start_time": "2020-06-02T06:29:01.735006Z"
    }
   },
   "outputs": [],
   "source": [
    "# 调用对象的 repr() 方法，获得该方法的返回值，如下例子返回值为字符串\n",
    "class Student():\n",
    "    def __init__(self, id, name):\n",
    "        self.id = id\n",
    "        self.name = name\n",
    "\n",
    "    def __repr__(self):\n",
    "        return 'id = '+self.id + ', name = '+self.name\n",
    "\n",
    "xiaoming = Student(id='001', name='xiaoming')"
   ]
  },
  {
   "cell_type": "code",
   "execution_count": 8,
   "metadata": {
    "ExecuteTime": {
     "end_time": "2020-06-02T06:29:01.760889Z",
     "start_time": "2020-06-02T06:29:01.755810Z"
    }
   },
   "outputs": [
    {
     "name": "stdout",
     "output_type": "stream",
     "text": [
      "id = 001, name = xiaoming\n"
     ]
    }
   ],
   "source": [
    "print(xiaoming)"
   ]
  },
  {
   "cell_type": "code",
   "execution_count": 9,
   "metadata": {
    "ExecuteTime": {
     "end_time": "2020-06-02T06:29:01.770124Z",
     "start_time": "2020-06-02T06:29:01.763379Z"
    }
   },
   "outputs": [
    {
     "data": {
      "text/plain": [
       "'id = 001, name = xiaoming'"
      ]
     },
     "execution_count": 9,
     "metadata": {},
     "output_type": "execute_result"
    }
   ],
   "source": [
    "ascii(xiaoming)"
   ]
  },
  {
   "cell_type": "markdown",
   "metadata": {},
   "source": [
    "## 十转二"
   ]
  },
  {
   "cell_type": "code",
   "execution_count": 10,
   "metadata": {
    "ExecuteTime": {
     "end_time": "2020-06-02T06:29:01.778777Z",
     "start_time": "2020-06-02T06:29:01.773161Z"
    }
   },
   "outputs": [
    {
     "data": {
      "text/plain": [
       "'0b1010'"
      ]
     },
     "execution_count": 10,
     "metadata": {},
     "output_type": "execute_result"
    }
   ],
   "source": [
    "bin(10)"
   ]
  },
  {
   "cell_type": "markdown",
   "metadata": {},
   "source": [
    "## 十转八"
   ]
  },
  {
   "cell_type": "code",
   "execution_count": 11,
   "metadata": {
    "ExecuteTime": {
     "end_time": "2020-06-02T06:29:01.788729Z",
     "start_time": "2020-06-02T06:29:01.781680Z"
    }
   },
   "outputs": [
    {
     "data": {
      "text/plain": [
       "'0o11'"
      ]
     },
     "execution_count": 11,
     "metadata": {},
     "output_type": "execute_result"
    }
   ],
   "source": [
    "oct(9)"
   ]
  },
  {
   "cell_type": "markdown",
   "metadata": {},
   "source": [
    "## 十转十六"
   ]
  },
  {
   "cell_type": "code",
   "execution_count": 12,
   "metadata": {
    "ExecuteTime": {
     "end_time": "2020-06-02T06:29:01.796115Z",
     "start_time": "2020-06-02T06:29:01.791759Z"
    }
   },
   "outputs": [
    {
     "data": {
      "text/plain": [
       "'0xf'"
      ]
     },
     "execution_count": 12,
     "metadata": {},
     "output_type": "execute_result"
    }
   ],
   "source": [
    "hex(15)"
   ]
  },
  {
   "cell_type": "markdown",
   "metadata": {},
   "source": [
    "## 判断是真是假"
   ]
  },
  {
   "cell_type": "code",
   "execution_count": 13,
   "metadata": {
    "ExecuteTime": {
     "end_time": "2020-06-02T06:29:01.806686Z",
     "start_time": "2020-06-02T06:29:01.799218Z"
    }
   },
   "outputs": [
    {
     "data": {
      "text/plain": [
       "True"
      ]
     },
     "execution_count": 13,
     "metadata": {},
     "output_type": "execute_result"
    }
   ],
   "source": [
    "# 测试一个对象是 True, 还是 False\n",
    "bool([0,0,0])"
   ]
  },
  {
   "cell_type": "code",
   "execution_count": 14,
   "metadata": {
    "ExecuteTime": {
     "end_time": "2020-06-02T06:29:01.816333Z",
     "start_time": "2020-06-02T06:29:01.809507Z"
    }
   },
   "outputs": [
    {
     "data": {
      "text/plain": [
       "False"
      ]
     },
     "execution_count": 14,
     "metadata": {},
     "output_type": "execute_result"
    }
   ],
   "source": [
    "bool([])"
   ]
  },
  {
   "cell_type": "markdown",
   "metadata": {},
   "source": [
    "## 字符串转字节"
   ]
  },
  {
   "cell_type": "code",
   "execution_count": 15,
   "metadata": {
    "ExecuteTime": {
     "end_time": "2020-06-02T06:29:01.820718Z",
     "start_time": "2020-06-02T06:29:01.818218Z"
    }
   },
   "outputs": [],
   "source": [
    "# 将一个字符串转换成字节类型\n",
    "s = \"apple\""
   ]
  },
  {
   "cell_type": "code",
   "execution_count": 16,
   "metadata": {
    "ExecuteTime": {
     "end_time": "2020-06-02T06:29:01.829484Z",
     "start_time": "2020-06-02T06:29:01.823360Z"
    }
   },
   "outputs": [
    {
     "data": {
      "text/plain": [
       "b'apple'"
      ]
     },
     "execution_count": 16,
     "metadata": {},
     "output_type": "execute_result"
    }
   ],
   "source": [
    "bytes(s,encoding='utf-8')"
   ]
  },
  {
   "cell_type": "markdown",
   "metadata": {},
   "source": [
    "## 转为字符串"
   ]
  },
  {
   "cell_type": "code",
   "execution_count": 17,
   "metadata": {
    "ExecuteTime": {
     "end_time": "2020-06-02T06:29:01.838945Z",
     "start_time": "2020-06-02T06:29:01.832151Z"
    }
   },
   "outputs": [
    {
     "data": {
      "text/plain": [
       "'100'"
      ]
     },
     "execution_count": 17,
     "metadata": {},
     "output_type": "execute_result"
    }
   ],
   "source": [
    "# 将字符类型、数值类型等转换为字符串类型\n",
    "i = 100\n",
    "str(i)"
   ]
  },
  {
   "cell_type": "markdown",
   "metadata": {},
   "source": [
    "## 是否可调用"
   ]
  },
  {
   "cell_type": "code",
   "execution_count": 18,
   "metadata": {
    "ExecuteTime": {
     "end_time": "2020-06-02T06:29:01.846458Z",
     "start_time": "2020-06-02T06:29:01.842276Z"
    }
   },
   "outputs": [
    {
     "data": {
      "text/plain": [
       "True"
      ]
     },
     "execution_count": 18,
     "metadata": {},
     "output_type": "execute_result"
    }
   ],
   "source": [
    "# 判断对象是否可被调用，能被调用的对象就是一个 callable 对象，比如函数 str,int 等都是可被调用的，\n",
    "# 但是例子 4 中 xiaoming 实例是不可被调用的:\n",
    "callable(str)"
   ]
  },
  {
   "cell_type": "code",
   "execution_count": 19,
   "metadata": {
    "ExecuteTime": {
     "end_time": "2020-06-02T06:29:01.854273Z",
     "start_time": "2020-06-02T06:29:01.849859Z"
    }
   },
   "outputs": [
    {
     "data": {
      "text/plain": [
       "False"
      ]
     },
     "execution_count": 19,
     "metadata": {},
     "output_type": "execute_result"
    }
   ],
   "source": [
    "xiaoming\n",
    "callable(xiaoming)"
   ]
  },
  {
   "cell_type": "code",
   "execution_count": 20,
   "metadata": {
    "ExecuteTime": {
     "end_time": "2020-06-02T06:29:01.860393Z",
     "start_time": "2020-06-02T06:29:01.857004Z"
    }
   },
   "outputs": [],
   "source": [
    "# 如果想让 xiaoming 能被调用 xiaoming(), 需要重写 Student 类的 __call__ 方法:"
   ]
  },
  {
   "cell_type": "code",
   "execution_count": 21,
   "metadata": {
    "ExecuteTime": {
     "end_time": "2020-06-02T06:29:01.869506Z",
     "start_time": "2020-06-02T06:29:01.863071Z"
    }
   },
   "outputs": [],
   "source": [
    "class Student():\n",
    "    def __init__(self, id, name):\n",
    "        self.id = id\n",
    "        self.name = name\n",
    "\n",
    "    def __repr__(self):\n",
    "        return 'id = '+self.id + ', name = '+self.name\n",
    "    \n",
    "    def __call__(self):\n",
    "        print('I can be called') \n",
    "        print(f'my name is {self.name}')"
   ]
  },
  {
   "cell_type": "code",
   "execution_count": 22,
   "metadata": {
    "ExecuteTime": {
     "end_time": "2020-06-02T06:29:01.881728Z",
     "start_time": "2020-06-02T06:29:01.876560Z"
    }
   },
   "outputs": [
    {
     "name": "stdout",
     "output_type": "stream",
     "text": [
      "I can be called\n",
      "my name is xiaoming\n"
     ]
    }
   ],
   "source": [
    "t = Student('001','xiaoming')\n",
    "t()"
   ]
  },
  {
   "cell_type": "code",
   "execution_count": 23,
   "metadata": {
    "ExecuteTime": {
     "end_time": "2020-06-02T06:29:01.896811Z",
     "start_time": "2020-06-02T06:29:01.888973Z"
    }
   },
   "outputs": [
    {
     "data": {
      "text/plain": [
       "True"
      ]
     },
     "execution_count": 23,
     "metadata": {},
     "output_type": "execute_result"
    }
   ],
   "source": [
    "callable(t)"
   ]
  },
  {
   "cell_type": "markdown",
   "metadata": {},
   "source": [
    "## 十转 ASCII"
   ]
  },
  {
   "cell_type": "code",
   "execution_count": 24,
   "metadata": {
    "ExecuteTime": {
     "end_time": "2020-06-02T06:29:01.911509Z",
     "start_time": "2020-06-02T06:29:01.904107Z"
    }
   },
   "outputs": [
    {
     "data": {
      "text/plain": [
       "'A'"
      ]
     },
     "execution_count": 24,
     "metadata": {},
     "output_type": "execute_result"
    }
   ],
   "source": [
    "chr(65)"
   ]
  },
  {
   "cell_type": "markdown",
   "metadata": {},
   "source": [
    "## ASCII 转十"
   ]
  },
  {
   "cell_type": "code",
   "execution_count": 25,
   "metadata": {
    "ExecuteTime": {
     "end_time": "2020-06-02T06:29:01.928838Z",
     "start_time": "2020-06-02T06:29:01.919496Z"
    }
   },
   "outputs": [
    {
     "data": {
      "text/plain": [
       "65"
      ]
     },
     "execution_count": 25,
     "metadata": {},
     "output_type": "execute_result"
    }
   ],
   "source": [
    "ord('A')"
   ]
  },
  {
   "cell_type": "markdown",
   "metadata": {
    "heading_collapsed": true
   },
   "source": [
    "## 14 类方法"
   ]
  },
  {
   "cell_type": "code",
   "execution_count": 26,
   "metadata": {
    "ExecuteTime": {
     "end_time": "2020-06-02T06:29:01.944476Z",
     "start_time": "2020-06-02T06:29:01.935326Z"
    },
    "hidden": true
   },
   "outputs": [],
   "source": [
    "class Student():\n",
    "    def __init__(self, id, name):\n",
    "        self.id = id\n",
    "        self.name = name\n",
    "\n",
    "    def __repr__(self):\n",
    "        return 'id = '+self.id + ', name = '+self.name\n",
    "\n",
    "    @classmethod\n",
    "    def f(cls): \n",
    "        print(cls)"
   ]
  },
  {
   "cell_type": "code",
   "execution_count": 27,
   "metadata": {
    "ExecuteTime": {
     "end_time": "2020-06-02T06:29:01.961621Z",
     "start_time": "2020-06-02T06:29:01.954844Z"
    },
    "hidden": true
   },
   "outputs": [
    {
     "name": "stdout",
     "output_type": "stream",
     "text": [
      "<class '__main__.Student'>\n"
     ]
    }
   ],
   "source": [
    "Student.f()"
   ]
  },
  {
   "cell_type": "markdown",
   "metadata": {},
   "source": [
    "## 15 执行字符串表示的代码"
   ]
  },
  {
   "cell_type": "code",
   "execution_count": 28,
   "metadata": {
    "ExecuteTime": {
     "end_time": "2020-06-02T06:29:01.974294Z",
     "start_time": "2020-06-02T06:29:01.967905Z"
    }
   },
   "outputs": [],
   "source": [
    "s = \"print('helloworld')\"\n",
    "r = compile(s,\"<string>\", \"exec\")"
   ]
  },
  {
   "cell_type": "code",
   "execution_count": 29,
   "metadata": {
    "ExecuteTime": {
     "end_time": "2020-06-02T06:29:01.989599Z",
     "start_time": "2020-06-02T06:29:01.978976Z"
    }
   },
   "outputs": [
    {
     "data": {
      "text/plain": [
       "<code object <module> at 0x7fbb5ad26ae0, file \"<string>\", line 1>"
      ]
     },
     "execution_count": 29,
     "metadata": {},
     "output_type": "execute_result"
    }
   ],
   "source": [
    "r\n"
   ]
  },
  {
   "cell_type": "code",
   "execution_count": 30,
   "metadata": {
    "ExecuteTime": {
     "end_time": "2020-06-02T06:29:02.007698Z",
     "start_time": "2020-06-02T06:29:01.995488Z"
    }
   },
   "outputs": [
    {
     "name": "stdout",
     "output_type": "stream",
     "text": [
      "helloworld\n"
     ]
    }
   ],
   "source": [
    "exec(r)"
   ]
  },
  {
   "cell_type": "markdown",
   "metadata": {},
   "source": [
    "## 16 创建复数"
   ]
  },
  {
   "cell_type": "code",
   "execution_count": 31,
   "metadata": {
    "ExecuteTime": {
     "end_time": "2020-06-02T06:29:02.025732Z",
     "start_time": "2020-06-02T06:29:02.018868Z"
    }
   },
   "outputs": [
    {
     "data": {
      "text/plain": [
       "(1+2j)"
      ]
     },
     "execution_count": 31,
     "metadata": {},
     "output_type": "execute_result"
    }
   ],
   "source": [
    "complex(1,2)"
   ]
  },
  {
   "cell_type": "markdown",
   "metadata": {},
   "source": [
    "## 17 动态删除属性"
   ]
  },
  {
   "cell_type": "markdown",
   "metadata": {},
   "source": [
    "缺"
   ]
  },
  {
   "cell_type": "markdown",
   "metadata": {},
   "source": [
    "## 转为字典"
   ]
  },
  {
   "cell_type": "code",
   "execution_count": 32,
   "metadata": {
    "ExecuteTime": {
     "end_time": "2020-06-02T06:29:02.038353Z",
     "start_time": "2020-06-02T06:29:02.028455Z"
    }
   },
   "outputs": [
    {
     "data": {
      "text/plain": [
       "{'a': 'a', 'b': 'b'}"
      ]
     },
     "execution_count": 32,
     "metadata": {},
     "output_type": "execute_result"
    }
   ],
   "source": [
    "dict(a='a',b='b')"
   ]
  },
  {
   "cell_type": "code",
   "execution_count": 33,
   "metadata": {
    "ExecuteTime": {
     "end_time": "2020-06-02T06:29:02.051277Z",
     "start_time": "2020-06-02T06:29:02.041721Z"
    }
   },
   "outputs": [
    {
     "data": {
      "text/plain": [
       "{'a': 1, 'b': 2}"
      ]
     },
     "execution_count": 33,
     "metadata": {},
     "output_type": "execute_result"
    }
   ],
   "source": [
    "# zip 对象中对应的元素打包成一个个元组，然后返回由这些元组组成的列表。\n",
    "dict(zip(['a','b'],[1,2]))"
   ]
  },
  {
   "cell_type": "code",
   "execution_count": 34,
   "metadata": {
    "ExecuteTime": {
     "end_time": "2020-06-02T06:29:02.074483Z",
     "start_time": "2020-06-02T06:29:02.057908Z"
    }
   },
   "outputs": [
    {
     "data": {
      "text/plain": [
       "{'a': 1, 'b': 2}"
      ]
     },
     "execution_count": 34,
     "metadata": {},
     "output_type": "execute_result"
    }
   ],
   "source": [
    "dict([('a',1),('b',2)])"
   ]
  },
  {
   "cell_type": "markdown",
   "metadata": {},
   "source": [
    "## 一键查看对象所有方法"
   ]
  },
  {
   "cell_type": "code",
   "execution_count": 35,
   "metadata": {
    "ExecuteTime": {
     "end_time": "2020-06-02T06:29:02.088512Z",
     "start_time": "2020-06-02T06:29:02.077938Z"
    }
   },
   "outputs": [
    {
     "data": {
      "text/plain": [
       "['__class__',\n",
       " '__delattr__',\n",
       " '__dict__',\n",
       " '__dir__',\n",
       " '__doc__',\n",
       " '__eq__',\n",
       " '__format__',\n",
       " '__ge__',\n",
       " '__getattribute__',\n",
       " '__gt__',\n",
       " '__hash__',\n",
       " '__init__',\n",
       " '__init_subclass__',\n",
       " '__le__',\n",
       " '__lt__',\n",
       " '__module__',\n",
       " '__ne__',\n",
       " '__new__',\n",
       " '__reduce__',\n",
       " '__reduce_ex__',\n",
       " '__repr__',\n",
       " '__setattr__',\n",
       " '__sizeof__',\n",
       " '__str__',\n",
       " '__subclasshook__',\n",
       " '__weakref__',\n",
       " 'f',\n",
       " 'id',\n",
       " 'name']"
      ]
     },
     "execution_count": 35,
     "metadata": {},
     "output_type": "execute_result"
    }
   ],
   "source": [
    "xiaoming=Student(12,'xiaoming')\n",
    "dir(xiaoming)"
   ]
  },
  {
   "cell_type": "markdown",
   "metadata": {},
   "source": [
    "## 取商和余数"
   ]
  },
  {
   "cell_type": "code",
   "execution_count": 36,
   "metadata": {
    "ExecuteTime": {
     "end_time": "2020-06-02T06:29:02.103412Z",
     "start_time": "2020-06-02T06:29:02.093171Z"
    }
   },
   "outputs": [
    {
     "data": {
      "text/plain": [
       "(3, 1)"
      ]
     },
     "execution_count": 36,
     "metadata": {},
     "output_type": "execute_result"
    }
   ],
   "source": [
    "# 分别取商和余数\n",
    "divmod(10,3)"
   ]
  },
  {
   "cell_type": "markdown",
   "metadata": {},
   "source": [
    "## 枚举对象"
   ]
  },
  {
   "cell_type": "code",
   "execution_count": 37,
   "metadata": {
    "ExecuteTime": {
     "end_time": "2020-06-02T06:29:02.119055Z",
     "start_time": "2020-06-02T06:29:02.109018Z"
    }
   },
   "outputs": [
    {
     "name": "stdout",
     "output_type": "stream",
     "text": [
      "1 a\n",
      "2 b\n",
      "3 c\n"
     ]
    }
   ],
   "source": [
    "# 返回一个可以枚举的对象，该对象的 next() 方法将返回一个元组\n",
    "s = [\"a\", \"b\", \"c\"]\n",
    "for i, v in enumerate(s, 1):  # 从1开始\n",
    "    print(i, v)"
   ]
  },
  {
   "cell_type": "markdown",
   "metadata": {
    "ExecuteTime": {
     "end_time": "2020-06-01T13:12:02.288178Z",
     "start_time": "2020-06-01T13:12:02.276880Z"
    }
   },
   "source": [
    "## 计算表达式"
   ]
  },
  {
   "cell_type": "code",
   "execution_count": 38,
   "metadata": {
    "ExecuteTime": {
     "end_time": "2020-06-02T06:29:02.133994Z",
     "start_time": "2020-06-02T06:29:02.124370Z"
    }
   },
   "outputs": [
    {
     "data": {
      "text/plain": [
       "9"
      ]
     },
     "execution_count": 38,
     "metadata": {},
     "output_type": "execute_result"
    }
   ],
   "source": [
    "# 将字符串 str 当成有效的表达式来求值并返回计算结果取出字符串中内容\n",
    "s = \"1 + 3 + 5\"\n",
    "eval(s)"
   ]
  },
  {
   "cell_type": "markdown",
   "metadata": {},
   "source": [
    "## 查看变量所占字节数"
   ]
  },
  {
   "cell_type": "code",
   "execution_count": 39,
   "metadata": {
    "ExecuteTime": {
     "end_time": "2020-06-02T06:29:02.151929Z",
     "start_time": "2020-06-02T06:29:02.139662Z"
    }
   },
   "outputs": [
    {
     "data": {
      "text/plain": [
       "240"
      ]
     },
     "execution_count": 39,
     "metadata": {},
     "output_type": "execute_result"
    }
   ],
   "source": [
    "import sys\n",
    "a = {'a':1,'b':2.0}\n",
    "sys.getsizeof(a) # 占用 240 个字节"
   ]
  },
  {
   "cell_type": "markdown",
   "metadata": {},
   "source": [
    "## 过滤器"
   ]
  },
  {
   "cell_type": "code",
   "execution_count": 40,
   "metadata": {
    "ExecuteTime": {
     "end_time": "2020-06-02T06:29:02.165468Z",
     "start_time": "2020-06-02T06:29:02.157618Z"
    }
   },
   "outputs": [
    {
     "data": {
      "text/plain": [
       "[11, 45, 13]"
      ]
     },
     "execution_count": 40,
     "metadata": {},
     "output_type": "execute_result"
    }
   ],
   "source": [
    "# 在函数中设定过滤条件，迭代元素，保留返回值为 True的元素:\n",
    "fil = filter(lambda x: x>10,[1,11,2,45,7,6,13])\n",
    "list(fil)"
   ]
  },
  {
   "cell_type": "markdown",
   "metadata": {},
   "source": [
    "## 转为浮点类型"
   ]
  },
  {
   "cell_type": "code",
   "execution_count": 41,
   "metadata": {
    "ExecuteTime": {
     "end_time": "2020-06-02T06:29:02.178998Z",
     "start_time": "2020-06-02T06:29:02.171942Z"
    }
   },
   "outputs": [
    {
     "data": {
      "text/plain": [
       "3.0"
      ]
     },
     "execution_count": 41,
     "metadata": {},
     "output_type": "execute_result"
    }
   ],
   "source": [
    "# 将一个整数或数值型字符串转换为浮点数\n",
    "float(3)"
   ]
  },
  {
   "cell_type": "markdown",
   "metadata": {},
   "source": [
    "## 字符串格式化"
   ]
  },
  {
   "cell_type": "code",
   "execution_count": 42,
   "metadata": {
    "ExecuteTime": {
     "end_time": "2020-06-02T06:29:02.192323Z",
     "start_time": "2020-06-02T06:29:02.186324Z"
    }
   },
   "outputs": [
    {
     "name": "stdout",
     "output_type": "stream",
     "text": [
      "i am tom, my age is 18\n"
     ]
    }
   ],
   "source": [
    "# 格式化输出字符串，format(value, formatspec) 实质上是调用了 value 的 ***format*(formatspec) 方法。\n",
    "print(\"i am {0}, my age is {1}\".format(\"tom\",18))"
   ]
  },
  {
   "cell_type": "markdown",
   "metadata": {},
   "source": [
    "## 冻结集合"
   ]
  },
  {
   "cell_type": "code",
   "execution_count": 43,
   "metadata": {
    "ExecuteTime": {
     "end_time": "2020-06-02T06:29:02.204364Z",
     "start_time": "2020-06-02T06:29:02.195112Z"
    }
   },
   "outputs": [
    {
     "data": {
      "text/plain": [
       "frozenset({1, 2, 3})"
      ]
     },
     "execution_count": 43,
     "metadata": {},
     "output_type": "execute_result"
    }
   ],
   "source": [
    "# 不可修改的集合。\n",
    "frozenset([1,1,3,2,3])"
   ]
  },
  {
   "cell_type": "markdown",
   "metadata": {},
   "source": [
    "## 动态获取对象属性"
   ]
  },
  {
   "cell_type": "code",
   "execution_count": 44,
   "metadata": {
    "ExecuteTime": {
     "end_time": "2020-06-02T06:29:02.219251Z",
     "start_time": "2020-06-02T06:29:02.208232Z"
    }
   },
   "outputs": [
    {
     "data": {
      "text/plain": [
       "'001'"
      ]
     },
     "execution_count": 44,
     "metadata": {},
     "output_type": "execute_result"
    }
   ],
   "source": [
    "# 只能检测对象，不能检测类\n",
    "xiaoming = Student(id='001',name='xiaoming')\n",
    "getattr(xiaoming, 'id')"
   ]
  },
  {
   "cell_type": "markdown",
   "metadata": {},
   "source": [
    "## 对象是否有这个属性"
   ]
  },
  {
   "cell_type": "code",
   "execution_count": 45,
   "metadata": {
    "ExecuteTime": {
     "end_time": "2020-06-02T06:29:02.231161Z",
     "start_time": "2020-06-02T06:29:02.223706Z"
    }
   },
   "outputs": [
    {
     "data": {
      "text/plain": [
       "False"
      ]
     },
     "execution_count": 45,
     "metadata": {},
     "output_type": "execute_result"
    }
   ],
   "source": [
    "hasattr(xiaoming,'address')"
   ]
  },
  {
   "cell_type": "code",
   "execution_count": 46,
   "metadata": {
    "ExecuteTime": {
     "end_time": "2020-06-02T06:29:02.245199Z",
     "start_time": "2020-06-02T06:29:02.235934Z"
    }
   },
   "outputs": [
    {
     "data": {
      "text/plain": [
       "True"
      ]
     },
     "execution_count": 46,
     "metadata": {},
     "output_type": "execute_result"
    }
   ],
   "source": [
    "hasattr(xiaoming,'id')"
   ]
  },
  {
   "cell_type": "markdown",
   "metadata": {},
   "source": [
    "## 返回对象的哈希值"
   ]
  },
  {
   "cell_type": "code",
   "execution_count": 47,
   "metadata": {
    "ExecuteTime": {
     "end_time": "2020-06-02T06:29:02.260864Z",
     "start_time": "2020-06-02T06:29:02.253542Z"
    }
   },
   "outputs": [
    {
     "data": {
      "text/plain": [
       "-9223363259188508451"
      ]
     },
     "execution_count": 47,
     "metadata": {},
     "output_type": "execute_result"
    }
   ],
   "source": [
    "# 返回对象的哈希值，值得注意的是自定义的实例都是可哈希的，\n",
    "# list, dict, set 等可变对象都是不可哈希的 (unhashable)\n",
    "hash(xiaoming)"
   ]
  },
  {
   "cell_type": "markdown",
   "metadata": {},
   "source": [
    "## 一键帮助"
   ]
  },
  {
   "cell_type": "code",
   "execution_count": 51,
   "metadata": {
    "ExecuteTime": {
     "end_time": "2020-06-02T06:29:54.629762Z",
     "start_time": "2020-06-02T06:29:54.623931Z"
    }
   },
   "outputs": [
    {
     "name": "stdout",
     "output_type": "stream",
     "text": [
      "Help on Student in module __main__ object:\n",
      "\n",
      "class Student(builtins.object)\n",
      " |  Methods defined here:\n",
      " |  \n",
      " |  __init__(self, id, name)\n",
      " |      Initialize self.  See help(type(self)) for accurate signature.\n",
      " |  \n",
      " |  __repr__(self)\n",
      " |      Return repr(self).\n",
      " |  \n",
      " |  ----------------------------------------------------------------------\n",
      " |  Class methods defined here:\n",
      " |  \n",
      " |  f() from builtins.type\n",
      " |  \n",
      " |  ----------------------------------------------------------------------\n",
      " |  Data descriptors defined here:\n",
      " |  \n",
      " |  __dict__\n",
      " |      dictionary for instance variables (if defined)\n",
      " |  \n",
      " |  __weakref__\n",
      " |      list of weak references to the object (if defined)\n",
      "\n"
     ]
    }
   ],
   "source": [
    "# 返回对象的帮助文档\n",
    "help(xiaoming)"
   ]
  },
  {
   "cell_type": "markdown",
   "metadata": {},
   "source": [
    "## 对象门牌号"
   ]
  },
  {
   "cell_type": "code",
   "execution_count": 52,
   "metadata": {
    "ExecuteTime": {
     "end_time": "2020-06-02T06:30:22.567449Z",
     "start_time": "2020-06-02T06:30:22.562638Z"
    }
   },
   "outputs": [
    {
     "data": {
      "text/plain": [
       "140442660277720"
      ]
     },
     "execution_count": 52,
     "metadata": {},
     "output_type": "execute_result"
    }
   ],
   "source": [
    "id(xiaoming)"
   ]
  },
  {
   "cell_type": "markdown",
   "metadata": {},
   "source": [
    "## 获取用户输入"
   ]
  },
  {
   "cell_type": "code",
   "execution_count": 53,
   "metadata": {
    "ExecuteTime": {
     "end_time": "2020-06-02T06:30:47.085178Z",
     "start_time": "2020-06-02T06:30:43.681712Z"
    }
   },
   "outputs": [
    {
     "name": "stdout",
     "output_type": "stream",
     "text": [
      "'a'\n"
     ]
    },
    {
     "data": {
      "text/plain": [
       "\"'a'\""
      ]
     },
     "execution_count": 53,
     "metadata": {},
     "output_type": "execute_result"
    }
   ],
   "source": [
    "input()"
   ]
  },
  {
   "cell_type": "markdown",
   "metadata": {},
   "source": [
    "## 转为整型"
   ]
  },
  {
   "cell_type": "code",
   "execution_count": 59,
   "metadata": {
    "ExecuteTime": {
     "end_time": "2020-06-02T06:32:10.960956Z",
     "start_time": "2020-06-02T06:32:10.953441Z"
    },
    "scrolled": true
   },
   "outputs": [
    {
     "data": {
      "text/plain": [
       "12"
      ]
     },
     "execution_count": 59,
     "metadata": {},
     "output_type": "execute_result"
    }
   ],
   "source": [
    "# x 可能为字符串或数值，将 x 转换为一个普通整数\n",
    "int('12',base=10)"
   ]
  },
  {
   "cell_type": "markdown",
   "metadata": {},
   "source": [
    "## isinstance"
   ]
  },
  {
   "cell_type": "code",
   "execution_count": 63,
   "metadata": {
    "ExecuteTime": {
     "end_time": "2020-06-02T06:33:05.362945Z",
     "start_time": "2020-06-02T06:33:05.356411Z"
    }
   },
   "outputs": [
    {
     "data": {
      "text/plain": [
       "True"
      ]
     },
     "execution_count": 63,
     "metadata": {},
     "output_type": "execute_result"
    }
   ],
   "source": [
    "isinstance(xiaoming,Student)"
   ]
  },
  {
   "cell_type": "markdown",
   "metadata": {},
   "source": [
    "## 父子关系鉴定"
   ]
  },
  {
   "cell_type": "code",
   "execution_count": 2,
   "metadata": {
    "ExecuteTime": {
     "end_time": "2020-06-02T06:44:16.992013Z",
     "start_time": "2020-06-02T06:44:16.975573Z"
    }
   },
   "outputs": [
    {
     "data": {
      "text/plain": [
       "True"
      ]
     },
     "execution_count": 2,
     "metadata": {},
     "output_type": "execute_result"
    }
   ],
   "source": [
    "class Student():\n",
    "    def __init__(self, id, name):\n",
    "        self.id = id\n",
    "        self.name = name\n",
    "\n",
    "    def __repr__(self):\n",
    "        return 'id = '+self.id + ', name = '+self.name\n",
    "\n",
    "\n",
    "class undergraduate(Student):\n",
    "    def studyClass(self):\n",
    "        pass\n",
    "\n",
    "    def attendActivity(self):\n",
    "        pass\n",
    "    \n",
    "issubclass(undergraduate,Student)"
   ]
  },
  {
   "cell_type": "code",
   "execution_count": 3,
   "metadata": {
    "ExecuteTime": {
     "end_time": "2020-06-02T06:44:47.335477Z",
     "start_time": "2020-06-02T06:44:47.328452Z"
    }
   },
   "outputs": [
    {
     "data": {
      "text/plain": [
       "True"
      ]
     },
     "execution_count": 3,
     "metadata": {},
     "output_type": "execute_result"
    }
   ],
   "source": [
    "issubclass(Student,object)"
   ]
  },
  {
   "cell_type": "code",
   "execution_count": 4,
   "metadata": {
    "ExecuteTime": {
     "end_time": "2020-06-02T06:45:04.441834Z",
     "start_time": "2020-06-02T06:45:04.433329Z"
    }
   },
   "outputs": [
    {
     "data": {
      "text/plain": [
       "True"
      ]
     },
     "execution_count": 4,
     "metadata": {},
     "output_type": "execute_result"
    }
   ],
   "source": [
    "issubclass(undergraduate,object)"
   ]
  },
  {
   "cell_type": "markdown",
   "metadata": {},
   "source": [
    "## 创建迭代器类型"
   ]
  },
  {
   "cell_type": "code",
   "execution_count": 5,
   "metadata": {
    "ExecuteTime": {
     "end_time": "2020-06-02T06:46:35.682168Z",
     "start_time": "2020-06-02T06:46:35.677495Z"
    }
   },
   "outputs": [
    {
     "name": "stdout",
     "output_type": "stream",
     "text": [
      "1\n",
      "3\n",
      "5\n"
     ]
    }
   ],
   "source": [
    "# 使用 iter(obj, sentinel), 返回一个可迭代对象, sentinel 可省略 (一旦迭代到此元素，立即终止)\n",
    "lst = [1,3,5]\n",
    "for i in iter(lst):\n",
    "    print(i)"
   ]
  },
  {
   "cell_type": "code",
   "execution_count": 23,
   "metadata": {
    "ExecuteTime": {
     "end_time": "2020-06-02T06:51:49.989294Z",
     "start_time": "2020-06-02T06:51:49.980353Z"
    }
   },
   "outputs": [
    {
     "name": "stdout",
     "output_type": "stream",
     "text": [
      "__call__ is called,fowhich would return 1\n"
     ]
    },
    {
     "data": {
      "text/plain": [
       "1"
      ]
     },
     "execution_count": 23,
     "metadata": {},
     "output_type": "execute_result"
    }
   ],
   "source": [
    "class TestIter(object):\n",
    "    def __init__(self):\n",
    "        self.l = [1, 3, 2, 3, 4, 5]\n",
    "        self.i = iter(self.l)\n",
    "\n",
    "    def __call__(self):\n",
    "        # 定义了__call__ 方法的类的实例是可调用的\n",
    "        item = next(self.i)\n",
    "        print(\"__call__ is called,fowhich would return\",item)\n",
    "        return item\n",
    "\n",
    "    def __iter__(self):\n",
    "        # 支持迭代协议 (即定义有__iter__() 函数)\n",
    "        print(\"__iter__ is called!!\")\n",
    "        return iter(self.l)\n",
    "\n",
    "\n",
    "t = TestIter()\n",
    "t()"
   ]
  },
  {
   "cell_type": "code",
   "execution_count": 29,
   "metadata": {
    "ExecuteTime": {
     "end_time": "2020-06-02T06:52:31.210846Z",
     "start_time": "2020-06-02T06:52:31.202523Z"
    }
   },
   "outputs": [
    {
     "name": "stdout",
     "output_type": "stream",
     "text": [
      "__iter__ is called!!\n",
      "1\n",
      "3\n",
      "2\n",
      "3\n",
      "4\n",
      "5\n"
     ]
    }
   ],
   "source": [
    "for e in TestIter():\n",
    "    print(e)"
   ]
  },
  {
   "cell_type": "markdown",
   "metadata": {},
   "source": [
    "## 所有对象之根"
   ]
  },
  {
   "cell_type": "code",
   "execution_count": 31,
   "metadata": {
    "ExecuteTime": {
     "end_time": "2020-06-02T06:53:35.736659Z",
     "start_time": "2020-06-02T06:53:35.730470Z"
    }
   },
   "outputs": [
    {
     "data": {
      "text/plain": [
       "object"
      ]
     },
     "execution_count": 31,
     "metadata": {},
     "output_type": "execute_result"
    }
   ],
   "source": [
    "# object 是所有类的基类\n",
    "o = object()\n",
    "type(o)"
   ]
  },
  {
   "cell_type": "markdown",
   "metadata": {},
   "source": [
    "## 打开文件"
   ]
  },
  {
   "cell_type": "code",
   "execution_count": null,
   "metadata": {},
   "outputs": [],
   "source": [
    "fo = open('a.txt',mode='r', encoding='utf-8')\n",
    "fo.read()"
   ]
  },
  {
   "cell_type": "markdown",
   "metadata": {},
   "source": [
    "## 次幂"
   ]
  },
  {
   "cell_type": "code",
   "execution_count": 33,
   "metadata": {
    "ExecuteTime": {
     "end_time": "2020-06-02T06:55:03.274691Z",
     "start_time": "2020-06-02T06:55:03.267876Z"
    }
   },
   "outputs": [
    {
     "data": {
      "text/plain": [
       "9"
      ]
     },
     "execution_count": 33,
     "metadata": {},
     "output_type": "execute_result"
    }
   ],
   "source": [
    "# base 为底的 exp 次幂，如果 mod 给出，取余\n",
    "pow(3,2)\n"
   ]
  },
  {
   "cell_type": "code",
   "execution_count": 34,
   "metadata": {
    "ExecuteTime": {
     "end_time": "2020-06-02T06:55:12.476083Z",
     "start_time": "2020-06-02T06:55:12.469739Z"
    }
   },
   "outputs": [
    {
     "data": {
      "text/plain": [
       "1"
      ]
     },
     "execution_count": 34,
     "metadata": {},
     "output_type": "execute_result"
    }
   ],
   "source": [
    "pow(3,2,4)"
   ]
  },
  {
   "cell_type": "markdown",
   "metadata": {},
   "source": [
    "## 打印"
   ]
  },
  {
   "cell_type": "code",
   "execution_count": 2,
   "metadata": {
    "ExecuteTime": {
     "end_time": "2020-06-03T13:36:32.419186Z",
     "start_time": "2020-06-03T13:36:32.413711Z"
    }
   },
   "outputs": [
    {
     "name": "stdout",
     "output_type": "stream",
     "text": [
      "[1, 3, 5]\n",
      "lst: [1, 3, 5]\n",
      "lst:[1, 3, 5]\n",
      "lst: [1, 3, 5]\n"
     ]
    }
   ],
   "source": [
    "lst = [1,3,5]\n",
    "print(lst)\n",
    "print(f'lst: {lst}')\n",
    "print('lst:{}'.format(lst))\n",
    "print('lst:',lst)"
   ]
  },
  {
   "cell_type": "markdown",
   "metadata": {},
   "source": [
    "## 创建属性的两种方式"
   ]
  },
  {
   "cell_type": "code",
   "execution_count": 3,
   "metadata": {
    "ExecuteTime": {
     "end_time": "2020-06-03T13:43:08.334757Z",
     "start_time": "2020-06-03T13:43:08.329779Z"
    }
   },
   "outputs": [],
   "source": [
    "# 返回 property 属性，典型的用法:\n",
    "class C:\n",
    "    def __init__(self):\n",
    "        self._x = None\n",
    "\n",
    "    def getx(self):\n",
    "        return self._x\n",
    "\n",
    "    def setx(self, value):\n",
    "        self._x = value\n",
    "\n",
    "    def delx(self):\n",
    "        del self._x\n",
    "\n",
    "    # 使用 property 类创建 property 属性\n",
    "    x = property(getx, setx, delx, \"I'm the 'x' property.\")"
   ]
  },
  {
   "cell_type": "code",
   "execution_count": 5,
   "metadata": {
    "ExecuteTime": {
     "end_time": "2020-06-03T13:43:53.769824Z",
     "start_time": "2020-06-03T13:43:53.764972Z"
    }
   },
   "outputs": [],
   "source": [
    "# 使用 python 装饰器，实现与上完全一样的效果代码:\n",
    "class C:\n",
    "    def __init__(self):\n",
    "        self._x = None\n",
    "    @property\n",
    "    def x(self): \n",
    "        return self._x\n",
    "    @x.setter\n",
    "    def x(self, value): \n",
    "        self._x = value\n",
    "    @x.deleter\n",
    "    def x(self): \n",
    "        del self._x"
   ]
  },
  {
   "cell_type": "code",
   "execution_count": 18,
   "metadata": {
    "ExecuteTime": {
     "end_time": "2020-06-03T13:50:06.838626Z",
     "start_time": "2020-06-03T13:50:06.834744Z"
    }
   },
   "outputs": [
    {
     "name": "stdout",
     "output_type": "stream",
     "text": [
      "2\n"
     ]
    }
   ],
   "source": [
    "c = C\n",
    "c.x=2\n",
    "print(c.x)"
   ]
  },
  {
   "cell_type": "code",
   "execution_count": 19,
   "metadata": {
    "ExecuteTime": {
     "end_time": "2020-06-03T13:50:07.556116Z",
     "start_time": "2020-06-03T13:50:07.552690Z"
    }
   },
   "outputs": [],
   "source": [
    "del c.x"
   ]
  },
  {
   "cell_type": "markdown",
   "metadata": {},
   "source": [
    "## 创建 range 序列"
   ]
  },
  {
   "cell_type": "code",
   "execution_count": 20,
   "metadata": {
    "ExecuteTime": {
     "end_time": "2020-06-03T13:50:45.810749Z",
     "start_time": "2020-06-03T13:50:45.804958Z"
    }
   },
   "outputs": [
    {
     "data": {
      "text/plain": [
       "range(0, 11)"
      ]
     },
     "execution_count": 20,
     "metadata": {},
     "output_type": "execute_result"
    }
   ],
   "source": [
    "# range(start, stop[,step])\n",
    "\n",
    "range(0,11,1)\n"
   ]
  },
  {
   "cell_type": "markdown",
   "metadata": {},
   "source": [
    "## 反向迭代器"
   ]
  },
  {
   "cell_type": "code",
   "execution_count": 22,
   "metadata": {
    "ExecuteTime": {
     "end_time": "2020-06-03T13:51:25.232481Z",
     "start_time": "2020-06-03T13:51:25.225742Z"
    }
   },
   "outputs": [
    {
     "name": "stdout",
     "output_type": "stream",
     "text": [
      "1\n",
      "3\n",
      "2\n",
      "4\n",
      "1\n"
     ]
    }
   ],
   "source": [
    "rev = reversed([1, 4, 2, 3, 1])\n",
    "for i in rev:\n",
    "    print(i)"
   ]
  },
  {
   "cell_type": "markdown",
   "metadata": {},
   "source": [
    "## 四舍五入"
   ]
  },
  {
   "cell_type": "code",
   "execution_count": 25,
   "metadata": {
    "ExecuteTime": {
     "end_time": "2020-06-03T13:59:23.240668Z",
     "start_time": "2020-06-03T13:59:23.234852Z"
    }
   },
   "outputs": [
    {
     "data": {
      "text/plain": [
       "10.022"
      ]
     },
     "execution_count": 25,
     "metadata": {},
     "output_type": "execute_result"
    }
   ],
   "source": [
    "# 代表小数点后保留几位\n",
    "round(10.0222222, 3)"
   ]
  },
  {
   "cell_type": "code",
   "execution_count": 26,
   "metadata": {
    "ExecuteTime": {
     "end_time": "2020-06-03T13:59:24.170499Z",
     "start_time": "2020-06-03T13:59:24.163673Z"
    }
   },
   "outputs": [
    {
     "data": {
      "text/plain": [
       "10.1"
      ]
     },
     "execution_count": 26,
     "metadata": {},
     "output_type": "execute_result"
    }
   ],
   "source": [
    "round(10.05,1)"
   ]
  },
  {
   "cell_type": "markdown",
   "metadata": {},
   "source": [
    "## 转为集合类型"
   ]
  },
  {
   "cell_type": "code",
   "execution_count": 28,
   "metadata": {
    "ExecuteTime": {
     "end_time": "2020-06-03T14:02:24.403177Z",
     "start_time": "2020-06-03T14:02:24.397422Z"
    }
   },
   "outputs": [
    {
     "data": {
      "text/plain": [
       "{1, 2, 3, 4}"
      ]
     },
     "execution_count": 28,
     "metadata": {},
     "output_type": "execute_result"
    }
   ],
   "source": [
    "# 集合内不允许有重复元素\n",
    "a = [1,4,2,3,1]\n",
    "set(a)"
   ]
  },
  {
   "cell_type": "markdown",
   "metadata": {},
   "source": [
    "## 转为切片对象"
   ]
  },
  {
   "cell_type": "code",
   "execution_count": 30,
   "metadata": {
    "ExecuteTime": {
     "end_time": "2020-06-03T14:03:20.752462Z",
     "start_time": "2020-06-03T14:03:20.746729Z"
    }
   },
   "outputs": [
    {
     "data": {
      "text/plain": [
       "[1, 2, 1]"
      ]
     },
     "execution_count": 30,
     "metadata": {},
     "output_type": "execute_result"
    }
   ],
   "source": [
    "# slice(start, stop[, step])\n",
    "# 返回一个表示由 range(start, stop, step) 所指定索引集的 slice 对象，\n",
    "a = [1,4,2,3,1]\n",
    "my_slice_meaning = slice(0,5,2)\n",
    "a[my_slice_meaning]"
   ]
  },
  {
   "cell_type": "markdown",
   "metadata": {},
   "source": [
    "## 拿来就用的排序函数"
   ]
  },
  {
   "cell_type": "code",
   "execution_count": 31,
   "metadata": {
    "ExecuteTime": {
     "end_time": "2020-06-03T14:03:43.463741Z",
     "start_time": "2020-06-03T14:03:43.457432Z"
    }
   },
   "outputs": [
    {
     "data": {
      "text/plain": [
       "[4, 3, 2, 1, 1]"
      ]
     },
     "execution_count": 31,
     "metadata": {},
     "output_type": "execute_result"
    }
   ],
   "source": [
    "a = [1,4,2,3,1]\n",
    "sorted(a,reverse=True)"
   ]
  },
  {
   "cell_type": "code",
   "execution_count": 32,
   "metadata": {
    "ExecuteTime": {
     "end_time": "2020-06-03T14:04:15.672357Z",
     "start_time": "2020-06-03T14:04:15.663562Z"
    }
   },
   "outputs": [
    {
     "data": {
      "text/plain": [
       "[{'name': 'xiaoming', 'age': 18, 'gender': 'male'},\n",
       " {'name': 'xiaohong', 'age': 20, 'gender': 'female'}]"
      ]
     },
     "execution_count": 32,
     "metadata": {},
     "output_type": "execute_result"
    }
   ],
   "source": [
    "a = [{'name':'xiaoming','age':18,'gender':'male'},{'name':'xiaohong','age':20,'gender':'female'}]\n",
    "sorted(a,key=lambda x: x['age'],reverse=False)"
   ]
  },
  {
   "cell_type": "markdown",
   "metadata": {},
   "source": [
    "## 求和函数"
   ]
  },
  {
   "cell_type": "code",
   "execution_count": 33,
   "metadata": {
    "ExecuteTime": {
     "end_time": "2020-06-03T14:05:05.964274Z",
     "start_time": "2020-06-03T14:05:05.957886Z"
    }
   },
   "outputs": [
    {
     "data": {
      "text/plain": [
       "11"
      ]
     },
     "execution_count": 33,
     "metadata": {},
     "output_type": "execute_result"
    }
   ],
   "source": [
    "a = [1,4,2,3,1]\n",
    "sum(a)"
   ]
  },
  {
   "cell_type": "code",
   "execution_count": 34,
   "metadata": {
    "ExecuteTime": {
     "end_time": "2020-06-03T14:05:11.994444Z",
     "start_time": "2020-06-03T14:05:11.988562Z"
    }
   },
   "outputs": [
    {
     "data": {
      "text/plain": [
       "21"
      ]
     },
     "execution_count": 34,
     "metadata": {},
     "output_type": "execute_result"
    }
   ],
   "source": [
    "sum(a,10) # 求和的初始值为 10"
   ]
  },
  {
   "cell_type": "markdown",
   "metadata": {},
   "source": [
    "## 转元组"
   ]
  },
  {
   "cell_type": "code",
   "execution_count": 36,
   "metadata": {
    "ExecuteTime": {
     "end_time": "2020-06-03T14:06:19.673375Z",
     "start_time": "2020-06-03T14:06:19.667095Z"
    }
   },
   "outputs": [
    {
     "data": {
      "text/plain": [
       "(1, 3, 5)"
      ]
     },
     "execution_count": 36,
     "metadata": {},
     "output_type": "execute_result"
    }
   ],
   "source": [
    "# tuple() 将对象转为一个不可变的序列类型\n",
    "i_am_list = [1,3,5]\n",
    "i_am_tuple = tuple(i_am_list)\n",
    "i_am_tuple"
   ]
  },
  {
   "cell_type": "markdown",
   "metadata": {},
   "source": [
    "## 查看对象类型"
   ]
  },
  {
   "cell_type": "code",
   "execution_count": 38,
   "metadata": {
    "ExecuteTime": {
     "end_time": "2020-06-03T14:09:06.888869Z",
     "start_time": "2020-06-03T14:09:06.881074Z"
    }
   },
   "outputs": [
    {
     "data": {
      "text/plain": [
       "__main__.Student"
      ]
     },
     "execution_count": 38,
     "metadata": {},
     "output_type": "execute_result"
    }
   ],
   "source": [
    "class Student():\n",
    "    def __init__(self,id,name):\n",
    "        self.id = id\n",
    "        self.name = name \n",
    "    def __repr__(self):\n",
    "        return 'id = '+self.id +', name = '+self.name\n",
    "xiaoming = Student(id='001',name='xiaoming')\n",
    "type(xiaoming)"
   ]
  },
  {
   "cell_type": "markdown",
   "metadata": {},
   "source": [
    "## 聚合迭代器"
   ]
  },
  {
   "cell_type": "code",
   "execution_count": 39,
   "metadata": {
    "ExecuteTime": {
     "end_time": "2020-06-03T14:09:56.052421Z",
     "start_time": "2020-06-03T14:09:56.045326Z"
    }
   },
   "outputs": [
    {
     "data": {
      "text/plain": [
       "[(3, 4), (2, 5), (1, 6)]"
      ]
     },
     "execution_count": 39,
     "metadata": {},
     "output_type": "execute_result"
    }
   ],
   "source": [
    "#  zip 创建一个聚合了来自每个可迭代对象中的元素的迭代器:\n",
    "x = [3,2,1]\n",
    "y = [4,5,6]\n",
    "list(zip(x,y))"
   ]
  },
  {
   "cell_type": "code",
   "execution_count": 42,
   "metadata": {
    "ExecuteTime": {
     "end_time": "2020-06-03T14:14:58.236237Z",
     "start_time": "2020-06-03T14:14:58.229694Z"
    }
   },
   "outputs": [
    {
     "data": {
      "text/plain": [
       "['a1', 'b2', 'c3', 'd4', 'e5']"
      ]
     },
     "execution_count": 42,
     "metadata": {},
     "output_type": "execute_result"
    }
   ],
   "source": [
    "a = range(1,6)\n",
    "b = list('abcde')\n",
    "[str(y) + str(x) for x, y in zip(a, b)]"
   ]
  },
  {
   "cell_type": "markdown",
   "metadata": {},
   "source": [
    "## nonlocal 用于内嵌函数中"
   ]
  },
  {
   "cell_type": "code",
   "execution_count": 43,
   "metadata": {
    "ExecuteTime": {
     "end_time": "2020-06-03T15:04:25.289853Z",
     "start_time": "2020-06-03T15:04:25.279956Z"
    }
   },
   "outputs": [],
   "source": [
    "# 关键词 nonlocal常用于函数嵌套中，声明变量 i为非局部变量\n",
    "def excepter(f):\n",
    "    i = 0\n",
    "    t1 = time.time()\n",
    "\n",
    "    def wrapper():\n",
    "        try:\n",
    "            f()\n",
    "        except Exception as e:\n",
    "            nonlocal i\n",
    "            i += 1\n",
    "            print(f'{e.args[0]}: {i}')\n",
    "            t2 = time.time()\n",
    "            if i == n:\n",
    "                print(f'spending time:{round(t2-t1,2)}')\n",
    "    return wrapper"
   ]
  },
  {
   "cell_type": "markdown",
   "metadata": {},
   "source": [
    "## global 声明全局变量"
   ]
  },
  {
   "cell_type": "code",
   "execution_count": 45,
   "metadata": {
    "ExecuteTime": {
     "end_time": "2020-06-03T15:05:54.338235Z",
     "start_time": "2020-06-03T15:05:54.332048Z"
    }
   },
   "outputs": [
    {
     "name": "stdout",
     "output_type": "stream",
     "text": [
      "1\n"
     ]
    }
   ],
   "source": [
    "i = 0\n",
    "\n",
    "\n",
    "def h():\n",
    "    global i\n",
    "    i += 1\n",
    "\n",
    "\n",
    "h()\n",
    "print(i)"
   ]
  },
  {
   "cell_type": "markdown",
   "metadata": {},
   "source": [
    "## 链式比较"
   ]
  },
  {
   "cell_type": "code",
   "execution_count": 46,
   "metadata": {
    "ExecuteTime": {
     "end_time": "2020-06-03T15:06:08.349615Z",
     "start_time": "2020-06-03T15:06:08.344812Z"
    }
   },
   "outputs": [
    {
     "name": "stdout",
     "output_type": "stream",
     "text": [
      "False\n",
      "True\n"
     ]
    }
   ],
   "source": [
    "i=3\n",
    "print(1<i<3) #False \n",
    "print(1<i<=3) #True"
   ]
  },
  {
   "cell_type": "markdown",
   "metadata": {},
   "source": [
    "## 不用 else 和 if 实现计算器"
   ]
  },
  {
   "cell_type": "code",
   "execution_count": 47,
   "metadata": {
    "ExecuteTime": {
     "end_time": "2020-06-03T15:07:06.497750Z",
     "start_time": "2020-06-03T15:07:06.487826Z"
    }
   },
   "outputs": [
    {
     "data": {
      "text/plain": [
       "3"
      ]
     },
     "execution_count": 47,
     "metadata": {},
     "output_type": "execute_result"
    }
   ],
   "source": [
    "from operator import *\n",
    "\n",
    "\n",
    "def calculator(a, b, k):\n",
    "    return {'+': add, \n",
    "            '-': sub, \n",
    "            '*': mul, \n",
    "            '/': truediv, \n",
    "            '**': pow}[k](a, b)\n",
    "\n",
    "\n",
    "calculator(1, 2, '+')  # 3 calculator(3, 4, '**') # 81"
   ]
  },
  {
   "cell_type": "markdown",
   "metadata": {},
   "source": [
    "## 链式操作"
   ]
  },
  {
   "cell_type": "code",
   "execution_count": 48,
   "metadata": {
    "ExecuteTime": {
     "end_time": "2020-06-03T15:07:51.345582Z",
     "start_time": "2020-06-03T15:07:51.337427Z"
    }
   },
   "outputs": [
    {
     "data": {
      "text/plain": [
       "-1"
      ]
     },
     "execution_count": 48,
     "metadata": {},
     "output_type": "execute_result"
    }
   ],
   "source": [
    "from operator import (add, sub)\n",
    "\n",
    "\n",
    "def add_or_sub(a, b, oper):\n",
    "    return (add if oper == '+' else sub)(a, b)\n",
    "\n",
    "\n",
    "add_or_sub(1, 2, '-')  # -1"
   ]
  },
  {
   "cell_type": "markdown",
   "metadata": {},
   "source": [
    "## 交换两元素"
   ]
  },
  {
   "cell_type": "code",
   "execution_count": 50,
   "metadata": {
    "ExecuteTime": {
     "end_time": "2020-06-03T15:08:17.364644Z",
     "start_time": "2020-06-03T15:08:17.360103Z"
    }
   },
   "outputs": [
    {
     "name": "stdout",
     "output_type": "stream",
     "text": [
      "(0, 1)\n"
     ]
    }
   ],
   "source": [
    "def swap(a, b):\n",
    "    return b, a\n",
    "\n",
    "\n",
    "print(swap(1, 0))  # (0,1)"
   ]
  },
  {
   "cell_type": "markdown",
   "metadata": {},
   "source": [
    "## 去最小求平均"
   ]
  },
  {
   "cell_type": "code",
   "execution_count": 53,
   "metadata": {
    "ExecuteTime": {
     "end_time": "2020-06-03T15:09:39.642558Z",
     "start_time": "2020-06-03T15:09:39.632671Z"
    }
   },
   "outputs": [
    {
     "data": {
      "text/plain": [
       "9.1"
      ]
     },
     "execution_count": 53,
     "metadata": {},
     "output_type": "execute_result"
    }
   ],
   "source": [
    "def score_mean(lst):\n",
    "    lst.sort()\n",
    "    lst2 = lst[1:(len(lst)-1)]\n",
    "    return round((sum(lst2)/len(lst2)), 1)\n",
    "\n",
    "\n",
    "lst = [9.1, 9.0, 8.1, 9.7, 19, 8.2, 8.6, 9.8]\n",
    "score_mean(lst)  # 9.1"
   ]
  },
  {
   "cell_type": "markdown",
   "metadata": {},
   "source": [
    "## 打印99乘法表"
   ]
  },
  {
   "cell_type": "code",
   "execution_count": 56,
   "metadata": {
    "ExecuteTime": {
     "end_time": "2020-06-03T15:10:43.258870Z",
     "start_time": "2020-06-03T15:10:43.251802Z"
    }
   },
   "outputs": [
    {
     "name": "stdout",
     "output_type": "stream",
     "text": [
      "1*1=1\t\n",
      "1*2=2\t2*2=4\t\n",
      "1*3=3\t2*3=6\t3*3=9\t\n",
      "1*4=4\t2*4=8\t3*4=12\t4*4=16\t\n",
      "1*5=5\t2*5=10\t3*5=15\t4*5=20\t5*5=25\t\n",
      "1*6=6\t2*6=12\t3*6=18\t4*6=24\t5*6=30\t6*6=36\t\n",
      "1*7=7\t2*7=14\t3*7=21\t4*7=28\t5*7=35\t6*7=42\t7*7=49\t\n",
      "1*8=8\t2*8=16\t3*8=24\t4*8=32\t5*8=40\t6*8=48\t7*8=56\t8*8=64\t\n",
      "1*9=9\t2*9=18\t3*9=27\t4*9=36\t5*9=45\t6*9=54\t7*9=63\t8*9=72\t9*9=81\t\n"
     ]
    }
   ],
   "source": [
    "for i in range(1, 10):\n",
    "    for j in range(1, i+1):\n",
    "        print('%d*%d=%d' % (j, i, j*i), end=\"\\t\")\n",
    "    print()"
   ]
  },
  {
   "cell_type": "markdown",
   "metadata": {},
   "source": [
    "## 全展开"
   ]
  },
  {
   "cell_type": "code",
   "execution_count": 10,
   "metadata": {
    "ExecuteTime": {
     "end_time": "2020-06-04T02:43:15.926305Z",
     "start_time": "2020-06-04T02:43:15.921716Z"
    }
   },
   "outputs": [],
   "source": [
    "from collections.abc import *\n",
    "\n",
    "\n",
    "def flatten(lst, out_lst=None):\n",
    "    if out_lst is None:\n",
    "        out_lst = []\n",
    "    for i in lst:\n",
    "        if isinstance(i, Iterable):  # 判断 i 是否可迭代\n",
    "            flatten(i, out_lst)  # 尾数递归\n",
    "        else:\n",
    "            out_lst.append(i)  # 产生结果\n",
    "    return out_lst\n",
    "\n",
    "print(flatten([[1,2,3],[4,5]]))\n",
    "print(flatten([[1,2,3],[4,5]], [6,7]))\n",
    "print(flatten([[[1,2,3],[4,5,6]]]))"
   ]
  },
  {
   "cell_type": "code",
   "execution_count": 16,
   "metadata": {
    "ExecuteTime": {
     "end_time": "2020-06-04T02:44:43.796635Z",
     "start_time": "2020-06-04T02:44:43.792149Z"
    }
   },
   "outputs": [
    {
     "name": "stdout",
     "output_type": "stream",
     "text": [
      "[list([1, 2, 3]) list([4, 5])]\n"
     ]
    }
   ],
   "source": [
    "# numpy 里的 flatten\n",
    "import numpy\n",
    "b = numpy.array([[1,2,3],[4,5]])\n",
    "b.flatten()\n",
    "print(b)"
   ]
  },
  {
   "cell_type": "markdown",
   "metadata": {},
   "source": [
    "## 列表等分"
   ]
  },
  {
   "cell_type": "code",
   "execution_count": 19,
   "metadata": {
    "ExecuteTime": {
     "end_time": "2020-06-04T02:49:18.644321Z",
     "start_time": "2020-06-04T02:49:18.637763Z"
    }
   },
   "outputs": [
    {
     "name": "stdout",
     "output_type": "stream",
     "text": [
      "[[1, 3], [5, 7], [9]]\n",
      "[[1, 3, 5, 7, 9]]\n",
      "[[1, 3, 5, 7, 9]]\n"
     ]
    }
   ],
   "source": [
    "from math import ceil\n",
    "\n",
    "# ceil() 函数返回数字的上入整数。\n",
    "def divide(lst, size):\n",
    "    if size <= 0:\n",
    "        return [lst]\n",
    "    return [lst[i * size:(i+1)*size] for i in range(0, ceil(len(lst) / size))]\n",
    "\n",
    "\n",
    "r = divide([1, 3, 5, 7, 9], 2)\n",
    "print(r)  # [[1, 3], [5, 7], [9]] \n",
    "r = divide([1, 3, 5, 7, 9], 0)\n",
    "print(r)  # [[1, 3, 5, 7, 9]]\n",
    "r = divide([1, 3, 5, 7, 9], -3) \n",
    "print(r)  # [[1, 3, 5, 7, 9]]"
   ]
  },
  {
   "cell_type": "markdown",
   "metadata": {},
   "source": [
    "## 列表压缩"
   ]
  },
  {
   "cell_type": "code",
   "execution_count": 20,
   "metadata": {
    "ExecuteTime": {
     "end_time": "2020-06-04T02:57:59.041042Z",
     "start_time": "2020-06-04T02:57:59.035060Z"
    }
   },
   "outputs": [
    {
     "name": "stdout",
     "output_type": "stream",
     "text": [
      "['ok', [1, 2]]\n"
     ]
    }
   ],
   "source": [
    "def filter_false(lst):\n",
    "    return list(filter(bool, lst))\n",
    "r = filter_false([None, 0, False, '', [], 'ok', [1, 2]]) \n",
    "print(r) # ['ok', [1, 2]]"
   ]
  },
  {
   "cell_type": "markdown",
   "metadata": {},
   "source": [
    "## 更长列表"
   ]
  },
  {
   "cell_type": "code",
   "execution_count": 27,
   "metadata": {
    "ExecuteTime": {
     "end_time": "2020-06-04T03:06:25.767042Z",
     "start_time": "2020-06-04T03:06:25.757781Z"
    }
   },
   "outputs": [
    {
     "name": "stdout",
     "output_type": "stream",
     "text": [
      "[1, 2, 3] [4, 5, 6, 7] [8]\n",
      "([1, 2, 3], [4, 5, 6, 7], [8])\n",
      "更长的列表是[4, 5, 6, 7]\n",
      "[1, 2, 3] [4, 5, 6, 7] [8, 9]\n",
      "([1, 2, 3], [4, 5, 6, 7], [8, 9])\n",
      "更长的列表是[4, 5, 6, 7]\n"
     ]
    }
   ],
   "source": [
    "def max_length(*lst):\n",
    "    # *args一个星号表示接收任意个参数。调用时，会将实际参数打包成一个元组传入形式参数。\n",
    "    # 如果参数是个列表，会将整个列表当做一个参数传入。\n",
    "    print(*lst)\n",
    "    print(lst)\n",
    "    return max(*lst, key=lambda v: len(v))\n",
    "\n",
    "\n",
    "r = max_length([1, 2, 3], [4, 5, 6, 7], [8])\n",
    "print(f'更长的列表是{r}')  # [4, 5, 6, 7]\n",
    "r = max_length([1, 2, 3], [4, 5, 6, 7], [8, 9])\n",
    "print(f'更长的列表是{r}')  # [4, 5, 6, 7]"
   ]
  },
  {
   "cell_type": "markdown",
   "metadata": {},
   "source": [
    "## 求众数"
   ]
  },
  {
   "cell_type": "code",
   "execution_count": 28,
   "metadata": {
    "ExecuteTime": {
     "end_time": "2020-06-04T03:07:02.004610Z",
     "start_time": "2020-06-04T03:07:01.997180Z"
    }
   },
   "outputs": [
    {
     "name": "stdout",
     "output_type": "stream",
     "text": [
      "[1, 3, 3, 2, 1, 1, 2] 中出现次数最多的元素为:1\n"
     ]
    }
   ],
   "source": [
    "def top1(lst):\n",
    "    return max(lst, default='列表为空', key=lambda v: lst.count(v))\n",
    "\n",
    "\n",
    "lst = [1, 3, 3, 2, 1, 1, 2]\n",
    "r = top1(lst)\n",
    "print(f'{lst} 中出现次数最多的元素为:{r}')  # [1, 3, 3, 2, 1, 1, 2] 中出现次 数最多的元素为:1"
   ]
  },
  {
   "cell_type": "markdown",
   "metadata": {},
   "source": [
    "## 多表之最"
   ]
  },
  {
   "cell_type": "code",
   "execution_count": 30,
   "metadata": {
    "ExecuteTime": {
     "end_time": "2020-06-04T03:08:50.049730Z",
     "start_time": "2020-06-04T03:08:50.037119Z"
    }
   },
   "outputs": [
    {
     "name": "stdout",
     "output_type": "stream",
     "text": [
      "8\n"
     ]
    }
   ],
   "source": [
    "def max_lists(*lst):\n",
    "    return max(max(*lst, key=lambda v: max(v)))\n",
    "\n",
    "\n",
    "r = max_lists([1, 2, 3], [6, 7, 8], [4, 5])\n",
    "print(r)  # 8"
   ]
  },
  {
   "cell_type": "markdown",
   "metadata": {},
   "source": [
    "## 列表查重"
   ]
  },
  {
   "cell_type": "code",
   "execution_count": 32,
   "metadata": {
    "ExecuteTime": {
     "end_time": "2020-06-04T03:09:44.113932Z",
     "start_time": "2020-06-04T03:09:44.108934Z"
    }
   },
   "outputs": [
    {
     "name": "stdout",
     "output_type": "stream",
     "text": [
      "False\n",
      "True\n"
     ]
    }
   ],
   "source": [
    "def has_duplicates(lst):\n",
    "    return len(lst) == len(set(lst))\n",
    "\n",
    "\n",
    "x = [1, 1, 2, 2, 3, 2, 3, 4, 5, 6]\n",
    "y = [1, 2, 3, 4, 5]\n",
    "print(has_duplicates(x))  # False\n",
    "print(has_duplicates(y))  # True"
   ]
  },
  {
   "cell_type": "markdown",
   "metadata": {},
   "source": [
    "## 列表反转"
   ]
  },
  {
   "cell_type": "code",
   "execution_count": 33,
   "metadata": {
    "ExecuteTime": {
     "end_time": "2020-06-04T03:10:11.087936Z",
     "start_time": "2020-06-04T03:10:11.082510Z"
    }
   },
   "outputs": [
    {
     "name": "stdout",
     "output_type": "stream",
     "text": [
      "[2, 1, 4, 3, -2, 1]\n"
     ]
    }
   ],
   "source": [
    "def reverse(lst): \n",
    "    return lst[::-1]\n",
    "r = reverse([1, -2, 3, 4, 1, 2]) \n",
    "print(r) # [2, 1, 4, 3, -2, 1]"
   ]
  },
  {
   "cell_type": "markdown",
   "metadata": {},
   "source": [
    "## 浮点数等差数列"
   ]
  },
  {
   "cell_type": "code",
   "execution_count": 35,
   "metadata": {
    "ExecuteTime": {
     "end_time": "2020-06-04T03:12:39.684469Z",
     "start_time": "2020-06-04T03:12:39.676390Z"
    }
   },
   "outputs": [
    {
     "data": {
      "text/plain": [
       "[1.0, 1.7, 2.4, 3.1, 3.8, 4.5, 5.2, 5.9, 6.6, 7.3, 8.0]"
      ]
     },
     "execution_count": 35,
     "metadata": {},
     "output_type": "execute_result"
    }
   ],
   "source": [
    "def rang(start, stop, n):\n",
    "    start, stop, n = float('%.2f' % start), float(\n",
    "        '%.2f' % stop), int('%.d' % n)\n",
    "    step = (stop-start)/n \n",
    "    lst = [start]\n",
    "    while n > 0:\n",
    "        start, n = start+step, n-1\n",
    "        lst.append(round((start), 2))\n",
    "    return lst\n",
    "\n",
    "\n",
    "rang(1, 8, 10)  # [1.0, 1.7, 2.4, 3.1, 3.8, 4.5, 5.2, 5.9, 6.6, 7.3,8.0]"
   ]
  },
  {
   "cell_type": "markdown",
   "metadata": {},
   "source": [
    "## 按条件分组"
   ]
  },
  {
   "cell_type": "code",
   "execution_count": 36,
   "metadata": {
    "ExecuteTime": {
     "end_time": "2020-06-04T03:14:41.307032Z",
     "start_time": "2020-06-04T03:14:41.297654Z"
    }
   },
   "outputs": [
    {
     "data": {
      "text/plain": [
       "[[25, 31, 34], [89]]"
      ]
     },
     "execution_count": 36,
     "metadata": {},
     "output_type": "execute_result"
    }
   ],
   "source": [
    "def bif_by(lst, f):\n",
    "    return [[x for x in lst if f(x)], [x for x in lst if not f(x)]]\n",
    "\n",
    "\n",
    "records = [25, 89, 31, 34]\n",
    "bif_by(records, lambda x: x < 80)  # [[25, 31, 34], [89]]"
   ]
  },
  {
   "cell_type": "markdown",
   "metadata": {},
   "source": [
    "## map 实现向量运算"
   ]
  },
  {
   "cell_type": "code",
   "execution_count": 38,
   "metadata": {
    "ExecuteTime": {
     "end_time": "2020-06-04T03:35:02.495611Z",
     "start_time": "2020-06-04T03:35:02.488209Z"
    }
   },
   "outputs": [
    {
     "data": {
      "text/plain": [
       "[4, 9, 16, 25, 16, 13]"
      ]
     },
     "execution_count": 38,
     "metadata": {},
     "output_type": "execute_result"
    }
   ],
   "source": [
    "# 多序列运算函数—map(function,iterabel,iterable2)\n",
    "lst1 = [1, 2, 3, 4, 5, 6]\n",
    "lst2 = [3, 4, 5, 6, 3, 2]\n",
    "list(map(lambda x, y: x*y+1, lst1, lst2))"
   ]
  },
  {
   "cell_type": "markdown",
   "metadata": {},
   "source": [
    "## 值最大的字典"
   ]
  },
  {
   "cell_type": "code",
   "execution_count": 40,
   "metadata": {
    "ExecuteTime": {
     "end_time": "2020-06-04T03:38:01.074105Z",
     "start_time": "2020-06-04T03:38:01.065162Z"
    }
   },
   "outputs": [
    {
     "name": "stdout",
     "output_type": "stream",
     "text": [
      "dict_items([('a', -10), ('b', 5), ('c', 3), ('d', 5)])\n",
      "[('b', 5), ('d', 5)]\n"
     ]
    }
   ],
   "source": [
    "def max_pairs(dic):\n",
    "    if len(dic) == 0:\n",
    "        return dic\n",
    "    print(dic.items())\n",
    "    max_val = max(map(lambda v: v[1], dic.items()))\n",
    "    return [item for item in dic.items() if item[1] == max_val]\n",
    "\n",
    "\n",
    "r = max_pairs({'a': -10, 'b': 5, 'c': 3, 'd': 5})\n",
    "print(r)  # [('b', 5), ('d', 5)]"
   ]
  },
  {
   "cell_type": "markdown",
   "metadata": {},
   "source": [
    "## 合并两个字典"
   ]
  },
  {
   "cell_type": "code",
   "execution_count": 44,
   "metadata": {
    "ExecuteTime": {
     "end_time": "2020-06-04T03:39:33.490790Z",
     "start_time": "2020-06-04T03:39:33.482056Z"
    }
   },
   "outputs": [
    {
     "name": "stdout",
     "output_type": "stream",
     "text": [
      "{'a': 1, 'b': 2}\n"
     ]
    },
    {
     "data": {
      "text/plain": [
       "{'a': 1, 'b': 2, 'c': 3}"
      ]
     },
     "execution_count": 44,
     "metadata": {},
     "output_type": "execute_result"
    }
   ],
   "source": [
    "def merge_dict(dic1, dic2):\n",
    "    print(dic1)\n",
    "    return {**dic1, **dic2}  # python3.5 后支持的一行代码实现合并字典\n",
    "\n",
    "\n",
    "merge_dict({'a': 1, 'b': 2}, {'c': 3})  # {'a': 1, 'b': 2, 'c': 3}"
   ]
  },
  {
   "cell_type": "markdown",
   "metadata": {},
   "source": [
    "## top-n 字典"
   ]
  },
  {
   "cell_type": "code",
   "execution_count": 45,
   "metadata": {
    "ExecuteTime": {
     "end_time": "2020-06-04T03:40:02.621075Z",
     "start_time": "2020-06-04T03:40:02.612347Z"
    }
   },
   "outputs": [
    {
     "data": {
      "text/plain": [
       "['a', 'd', 'c']"
      ]
     },
     "execution_count": 45,
     "metadata": {},
     "output_type": "execute_result"
    }
   ],
   "source": [
    "from heapq import nlargest\n",
    "# 返回字典 d 前 n 个最大值对应的键\n",
    "\n",
    "\n",
    "def topn_dict(d, n):\n",
    "    return nlargest(n, d, key=lambda k: d[k])\n",
    "\n",
    "\n",
    "topn_dict({'a': 10, 'b': 8, 'c': 9, 'd': 10}, 3)  # ['a', 'd', 'c']"
   ]
  },
  {
   "cell_type": "markdown",
   "metadata": {},
   "source": [
    "## 异位词"
   ]
  },
  {
   "cell_type": "code",
   "execution_count": 48,
   "metadata": {
    "ExecuteTime": {
     "end_time": "2020-06-04T03:43:03.207843Z",
     "start_time": "2020-06-04T03:43:03.200660Z"
    }
   },
   "outputs": [
    {
     "data": {
      "text/plain": [
       "False"
      ]
     },
     "execution_count": 48,
     "metadata": {},
     "output_type": "execute_result"
    }
   ],
   "source": [
    "from collections import Counter\n",
    "# 检查两个字符串是否 相同字母异序词，简称:互为变位词\n",
    "\n",
    "\n",
    "def anagram(str1, str2):\n",
    "    return Counter(str1) == Counter(str2)\n",
    "\n",
    "\n",
    "anagram('eleven+two', 'twelve+one')  # True 这是一对神器的变位词\n",
    "anagram('eleven', 'twelve')  # False"
   ]
  },
  {
   "cell_type": "markdown",
   "metadata": {},
   "source": [
    "## 逻辑上合并字典"
   ]
  },
  {
   "cell_type": "code",
   "execution_count": 51,
   "metadata": {
    "ExecuteTime": {
     "end_time": "2020-06-04T03:43:58.458628Z",
     "start_time": "2020-06-04T03:43:58.443437Z"
    }
   },
   "outputs": [
    {
     "data": {
      "text/plain": [
       "{'x': 1, 'y': 3, 'z': 4}"
      ]
     },
     "execution_count": 51,
     "metadata": {},
     "output_type": "execute_result"
    }
   ],
   "source": [
    "# 一般的字典合并写法\n",
    "dic1 = {'x': 1, 'y': 2 }\n",
    "dic2 = {'y': 3, 'z': 4 }\n",
    "merged1 = {**dic1, **dic2} # {'x': 1, 'y': 3, 'z': 4}\n",
    "merged1"
   ]
  },
  {
   "cell_type": "code",
   "execution_count": 53,
   "metadata": {
    "ExecuteTime": {
     "end_time": "2020-06-04T03:48:36.765391Z",
     "start_time": "2020-06-04T03:48:36.760183Z"
    }
   },
   "outputs": [
    {
     "name": "stdout",
     "output_type": "stream",
     "text": [
      "ChainMap({'x': 1, 'y': 2}, {'y': 3, 'z': 4})\n",
      "ChainMap({'x': 10, 'y': 2}, {'y': 3, 'z': 4})\n"
     ]
    }
   ],
   "source": [
    "# ChainMap在内部创建了一个容纳这些字典的列表。因此使用\n",
    "# ChainMap 合并字典，修改 merged[‘x’]=10 后，dic1 中的 x 值改变\n",
    "\n",
    "\n",
    "from collections import ChainMap\n",
    "merged2 = ChainMap(dic1, dic2)\n",
    "print(merged2)  # ChainMap({'x': 1, 'y': 2}, {'y': 3, 'z': 4})\n",
    "dic1['x'] = 10\n",
    "print(merged2)"
   ]
  },
  {
   "cell_type": "markdown",
   "metadata": {},
   "source": [
    "## 命名元组提高可读性"
   ]
  },
  {
   "cell_type": "code",
   "execution_count": 54,
   "metadata": {
    "ExecuteTime": {
     "end_time": "2020-06-04T03:50:12.317956Z",
     "start_time": "2020-06-04T03:50:12.312289Z"
    }
   },
   "outputs": [
    {
     "name": "stdout",
     "output_type": "stream",
     "text": [
      "3.0\n"
     ]
    }
   ],
   "source": [
    "# 使用命名元组写出来的代码可读性更好，尤其处理上百上千个属性时作用更加凸显。\n",
    "\n",
    "from collections import namedtuple\n",
    "\n",
    "Point = namedtuple('Point', ['x', 'y', 'z'])  # 定义名字为 Point 的元祖， 字段属性有 x,y,z\n",
    "lst = [Point(1.5, 2, 3.0), Point(-0.3, -1.0, 2.1), Point(1.3, 2.8, -2.5)]\n",
    "print(lst[0].y - lst[1].y)"
   ]
  },
  {
   "cell_type": "markdown",
   "metadata": {},
   "source": [
    "## 样本抽样"
   ]
  },
  {
   "cell_type": "code",
   "execution_count": 55,
   "metadata": {
    "ExecuteTime": {
     "end_time": "2020-06-04T03:51:06.781805Z",
     "start_time": "2020-06-04T03:51:06.776092Z"
    }
   },
   "outputs": [
    {
     "name": "stdout",
     "output_type": "stream",
     "text": [
      "[34, 43, 4, 28, 49]\n",
      "[0, 21, 41, 8, 9, 19, 38, 24, 0, 17]\n"
     ]
    }
   ],
   "source": [
    "# 使用 sample 抽样，如下例子从 100 个样本中随机抽样 10 个\n",
    "from random import randint, sample\n",
    "\n",
    "lst = [randint(0, 50) for _ in range(100)]\n",
    "print(lst[:5])  # [38, 19, 11, 3, 6]\n",
    "\n",
    "lst_sample = sample(lst, 10)\n",
    "print(lst_sample)  # [33, 40, 35, 49, 24, 15, 48, 29, 37, 24]"
   ]
  },
  {
   "cell_type": "markdown",
   "metadata": {},
   "source": [
    "## 重洗数据集"
   ]
  },
  {
   "cell_type": "code",
   "execution_count": 56,
   "metadata": {
    "ExecuteTime": {
     "end_time": "2020-06-04T03:52:38.734961Z",
     "start_time": "2020-06-04T03:52:38.728521Z"
    }
   },
   "outputs": [
    {
     "name": "stdout",
     "output_type": "stream",
     "text": [
      "[21, 32, 31, 24, 19]\n"
     ]
    }
   ],
   "source": [
    "# 使用 shuffle 用来重洗数据集，值得注意 ‘‘shuffle‘‘是对 lst 就地 (in place) 洗牌，节省存储空间\n",
    "from random import shuffle\n",
    "lst = [randint(0, 50) for _ in range(100)]\n",
    "shuffle(lst)\n",
    "print(lst[:5])  # [50, 3, 48, 1, 26]"
   ]
  },
  {
   "cell_type": "markdown",
   "metadata": {},
   "source": [
    "## 10 个均匀分布的坐标点"
   ]
  },
  {
   "cell_type": "code",
   "execution_count": 58,
   "metadata": {
    "ExecuteTime": {
     "end_time": "2020-06-04T03:53:28.446999Z",
     "start_time": "2020-06-04T03:53:28.438230Z"
    }
   },
   "outputs": [
    {
     "data": {
      "text/plain": [
       "[(7.934504260669359, 7.265443881258221),\n",
       " (7.65681226036489, 7.714045235654298),\n",
       " (7.532729460894025, 2.1662340681225754),\n",
       " (0.9995688840558015, 3.036050372654071),\n",
       " (8.084618348337903, 9.085187751542696),\n",
       " (1.7480313621316235, 9.017234780467065),\n",
       " (9.146234696209548, 3.8160501608093345),\n",
       " (7.507764096625071, 2.49930973156546),\n",
       " (0.68354598223476, 0.46539058483221263),\n",
       " (0.16478808605304818, 4.764517890903834)]"
      ]
     },
     "execution_count": 58,
     "metadata": {},
     "output_type": "execute_result"
    }
   ],
   "source": [
    "# random 模块中的 uniform(a,b) 生成 [a,b) 内的一个随机数，如下生成 10 个均匀分布的二维坐标点\n",
    "from random import uniform\n",
    "[(uniform(0,10),uniform(0,10)) for _ in range(10)]"
   ]
  },
  {
   "cell_type": "markdown",
   "metadata": {},
   "source": [
    "## 10 个高斯分布的坐标点"
   ]
  },
  {
   "cell_type": "code",
   "execution_count": 60,
   "metadata": {
    "ExecuteTime": {
     "end_time": "2020-06-04T03:55:52.583259Z",
     "start_time": "2020-06-04T03:55:52.575218Z"
    }
   },
   "outputs": [
    {
     "data": {
      "text/plain": [
       "[(0, -0.479866006976414),\n",
       " (1, 2.545982925124868),\n",
       " (2, 4.738761524399382),\n",
       " (3, 5.056442358790986),\n",
       " (4, 6.817796108227192),\n",
       " (5, 12.673905320479353),\n",
       " (6, 13.153505523504094),\n",
       " (7, 13.565223254939415),\n",
       " (8, 15.918142188159443),\n",
       " (9, 19.26495352029196)]"
      ]
     },
     "execution_count": 60,
     "metadata": {},
     "output_type": "execute_result"
    }
   ],
   "source": [
    "# random 模块中的 gauss(u,sigma) 生成均值为 u, 标准差为 sigma 的满足高斯分布的值，\n",
    "# 如下生成 10 个二维坐标点，样本误差 (y-2*x-1) 满足均值为 0，标准差为1的高斯分布:\n",
    "from random import gauss\n",
    "x = range(10)\n",
    "y = [2*xi+1+gauss(0,1) for xi in x] \n",
    "points = list(zip(x,y))\n",
    "points"
   ]
  },
  {
   "cell_type": "markdown",
   "metadata": {},
   "source": [
    "## chain 高效串联多个容器对象"
   ]
  },
  {
   "cell_type": "code",
   "execution_count": 61,
   "metadata": {
    "ExecuteTime": {
     "end_time": "2020-06-04T03:57:12.786893Z",
     "start_time": "2020-06-04T03:57:12.781057Z"
    }
   },
   "outputs": [
    {
     "name": "stdout",
     "output_type": "stream",
     "text": [
      "1\n",
      "3\n",
      "5\n",
      "0\n",
      "2\n",
      "4\n",
      "6\n"
     ]
    }
   ],
   "source": [
    "# chain 函数串联 a 和 b，兼顾内存效率同时写法更加优雅。\n",
    "from itertools import chain\n",
    "\n",
    "a = [1, 3, 5, 0]\n",
    "b = (2, 4, 6)\n",
    "for i in chain(a, b):\n",
    "    print(i)"
   ]
  },
  {
   "cell_type": "markdown",
   "metadata": {},
   "source": [
    "## 操作函数对象"
   ]
  },
  {
   "cell_type": "code",
   "execution_count": 62,
   "metadata": {
    "ExecuteTime": {
     "end_time": "2020-06-04T03:58:24.187381Z",
     "start_time": "2020-06-04T03:58:24.181991Z"
    }
   },
   "outputs": [
    {
     "name": "stdout",
     "output_type": "stream",
     "text": [
      "i'm g\n"
     ]
    }
   ],
   "source": [
    "def f():\n",
    "    print('i\\'m f')\n",
    "\n",
    "\n",
    "def g():\n",
    "    print('i\\'m g')\n",
    "\n",
    "\n",
    "# 创建函数对象的 list，根据想要调用的 index，方便统一调用。\n",
    "[f, g][1]()"
   ]
  },
  {
   "cell_type": "markdown",
   "metadata": {},
   "source": [
    "## 生成逆序序列"
   ]
  },
  {
   "cell_type": "code",
   "execution_count": 64,
   "metadata": {
    "ExecuteTime": {
     "end_time": "2020-06-04T03:59:36.347359Z",
     "start_time": "2020-06-04T03:59:36.340062Z"
    }
   },
   "outputs": [
    {
     "data": {
      "text/plain": [
       "[10, 9, 8, 7, 6, 5, 4, 3, 2, 1, 0]"
      ]
     },
     "execution_count": 64,
     "metadata": {},
     "output_type": "execute_result"
    }
   ],
   "source": [
    "# 第三个参数为负时，表示从第一个参数开始递减，终止到第二个参数 (不包括此边界)\n",
    "list(range(10,-1,-1))"
   ]
  },
  {
   "cell_type": "markdown",
   "metadata": {},
   "source": [
    "## 函数的五类参数使用例子\n"
   ]
  },
  {
   "cell_type": "code",
   "execution_count": 65,
   "metadata": {
    "ExecuteTime": {
     "end_time": "2020-06-04T04:00:46.895776Z",
     "start_time": "2020-06-04T04:00:46.886894Z"
    }
   },
   "outputs": [
    {
     "name": "stdout",
     "output_type": "stream",
     "text": [
      "a:1,b:(2, 5),c:10,d:{'width': 10, 'height': 20}\n"
     ]
    }
   ],
   "source": [
    "# python 五类参数:位置参数，关键字参数，默认参数，可变位置或关键字参数的使用。\n",
    "def f(a, *b, c=10, **d):\n",
    "    # 默认参数 ‘‘c‘‘不能位于可变关键字参数 ‘‘d‘‘后.\n",
    "    print(f'a:{a},b:{b},c:{c},d:{d}')\n",
    "\n",
    "\n",
    "f(1, 2, 5, width=10, height=20)"
   ]
  },
  {
   "cell_type": "code",
   "execution_count": 66,
   "metadata": {
    "ExecuteTime": {
     "end_time": "2020-06-04T04:01:40.299653Z",
     "start_time": "2020-06-04T04:01:40.291063Z"
    }
   },
   "outputs": [
    {
     "name": "stdout",
     "output_type": "stream",
     "text": [
      "a:1,b:(),c:12,d:{}\n"
     ]
    }
   ],
   "source": [
    "f(a=1,c=12)"
   ]
  },
  {
   "cell_type": "code",
   "execution_count": 76,
   "metadata": {
    "ExecuteTime": {
     "end_time": "2020-06-04T04:05:18.700382Z",
     "start_time": "2020-06-04T04:05:18.695907Z"
    }
   },
   "outputs": [
    {
     "name": "stdout",
     "output_type": "stream",
     "text": [
      "a:1,b:2\n"
     ]
    }
   ],
   "source": [
    "# 注意观察参数 a, 既可以 f(1), 也可以 f(a=1) 其可读性比第一种更好，建议使用 f(a=1)。\n",
    "# 如果要强制使用 f(a=1)，需要在前面添加一个星号:\n",
    "\n",
    "\n",
    "def f(*, a, b=2):\n",
    "    print(f'a:{a},b:{b}')\n",
    "    \n",
    "# 只能 f(a=1) 才能 OK\n",
    "f(a=1)"
   ]
  },
  {
   "cell_type": "markdown",
   "metadata": {},
   "source": [
    "说明前面的 *发挥作用，它变为只能传入关键字参数，那么如何查看这个参数的类型呢?\n",
    "借助 python 的 inspect 模块:"
   ]
  },
  {
   "cell_type": "code",
   "execution_count": 79,
   "metadata": {
    "ExecuteTime": {
     "end_time": "2020-06-04T04:11:41.401000Z",
     "start_time": "2020-06-04T04:11:41.396304Z"
    },
    "scrolled": true
   },
   "outputs": [
    {
     "name": "stdout",
     "output_type": "stream",
     "text": [
      "a KEYWORD_ONLY\n",
      "b KEYWORD_ONLY\n"
     ]
    }
   ],
   "source": [
    "from inspect import signature\n",
    "\n",
    "for name, val in signature(f).parameters.items():\n",
    "    print(name, val.kind)"
   ]
  },
  {
   "cell_type": "markdown",
   "metadata": {},
   "source": [
    "可看到参数 a的类型为 KEYWORD_ONLY，也就是仅仅为关键字参数\n",
    "\n",
    "如果 f 定义为:"
   ]
  },
  {
   "cell_type": "code",
   "execution_count": 80,
   "metadata": {
    "ExecuteTime": {
     "end_time": "2020-06-04T04:12:32.358380Z",
     "start_time": "2020-06-04T04:12:32.352468Z"
    }
   },
   "outputs": [
    {
     "name": "stdout",
     "output_type": "stream",
     "text": [
      "a POSITIONAL_OR_KEYWORD\n",
      "b VAR_POSITIONAL\n"
     ]
    }
   ],
   "source": [
    "def f(a, *b):\n",
    "    print(f'a:{a},b:{b}')\n",
    "\n",
    "\n",
    "for name, val in signature(f).parameters.items():\n",
    "    print(name, val.kind)"
   ]
  },
  {
   "cell_type": "markdown",
   "metadata": {},
   "source": [
    "可以看到参数 a既可以是位置参数也可是关键字参数。"
   ]
  },
  {
   "cell_type": "markdown",
   "metadata": {},
   "source": [
    "## 使用 slice 对象"
   ]
  },
  {
   "cell_type": "code",
   "execution_count": 83,
   "metadata": {
    "ExecuteTime": {
     "end_time": "2020-06-04T04:17:13.191575Z",
     "start_time": "2020-06-04T04:17:13.184627Z"
    }
   },
   "outputs": [
    {
     "name": "stdout",
     "output_type": "stream",
     "text": [
      "[4, 2]\n",
      "[5, 4, 3, 2, 1]\n"
     ]
    }
   ],
   "source": [
    "cake1 = list(range(5,0,-1))\n",
    "b = cake1[1:10:2]\n",
    "print(b)\n",
    "print(cake1)"
   ]
  },
  {
   "cell_type": "code",
   "execution_count": 84,
   "metadata": {
    "ExecuteTime": {
     "end_time": "2020-06-04T04:17:37.579020Z",
     "start_time": "2020-06-04T04:17:37.565697Z"
    }
   },
   "outputs": [
    {
     "name": "stdout",
     "output_type": "stream",
     "text": [
      "[28, 20, 6, 21, 99]\n"
     ]
    }
   ],
   "source": [
    "from random import randint\n",
    "cake2 = [randint(1,100) for _ in range(100)]\n",
    "# 同样以间隔为 2 切前 10 个元素，得到切片 d\n",
    "d = cake2[1:10:2]\n",
    "print(d)"
   ]
  },
  {
   "cell_type": "markdown",
   "metadata": {},
   "source": [
    "同一种切法，分别切开两个蛋糕 cake1,cake2. 后来发现这种切法极 为经典，又拿它去切更多的容器对象。\n",
    "\n",
    "那么，为什么不把这种切法封装为一个对象呢?于是就有了 slice 对象"
   ]
  },
  {
   "cell_type": "code",
   "execution_count": 86,
   "metadata": {
    "ExecuteTime": {
     "end_time": "2020-06-04T04:19:29.494449Z",
     "start_time": "2020-06-04T04:19:29.489616Z"
    }
   },
   "outputs": [
    {
     "name": "stdout",
     "output_type": "stream",
     "text": [
      "[4, 2]\n",
      "[28, 20, 6, 21, 99]\n"
     ]
    }
   ],
   "source": [
    "perfect_cake_slice_way = slice(1,10,2)\n",
    "\n",
    "# 去切 cake1\n",
    "cake1_slice = cake1[perfect_cake_slice_way] \n",
    "cake2_slice = cake2[perfect_cake_slice_way]\n",
    "print(cake1_slice)\n",
    "print(cake2_slice)"
   ]
  },
  {
   "cell_type": "markdown",
   "metadata": {},
   "source": [
    "对于逆向序列切片，slice 对象一样可行:"
   ]
  },
  {
   "cell_type": "code",
   "execution_count": 87,
   "metadata": {
    "ExecuteTime": {
     "end_time": "2020-06-04T04:20:16.564446Z",
     "start_time": "2020-06-04T04:20:16.559351Z"
    }
   },
   "outputs": [
    {
     "name": "stdout",
     "output_type": "stream",
     "text": [
      "[0, 9, 7, 5]\n",
      "[0, 9, 7, 5]\n"
     ]
    }
   ],
   "source": [
    "a = [1, 3, 5, 7, 9, 0, 3, 5, 7]\n",
    "a_ = a[5:1:-1]\n",
    "named_slice = slice(5, 1, -1)\n",
    "a_slice = a[named_slice]\n",
    "\n",
    "print(a_)\n",
    "print(a_slice)"
   ]
  },
  {
   "cell_type": "markdown",
   "metadata": {},
   "source": [
    "# PYTHON 字符串和正则"
   ]
  },
  {
   "cell_type": "markdown",
   "metadata": {},
   "source": [
    "## 反转字符串"
   ]
  },
  {
   "cell_type": "code",
   "execution_count": 4,
   "metadata": {
    "ExecuteTime": {
     "end_time": "2020-06-05T09:02:35.587727Z",
     "start_time": "2020-06-05T09:02:35.582704Z"
    }
   },
   "outputs": [
    {
     "name": "stdout",
     "output_type": "stream",
     "text": [
      "<reversed object at 0x7fabfeef14e0>\n",
      "nohtyp\n",
      "nohtyp\n"
     ]
    }
   ],
   "source": [
    "st=\"python\"\n",
    "# 方法1\n",
    "# print(reversed(st))\n",
    "print(''.join(reversed(st)))\n",
    "# 方法2\n",
    "print(st[::-1])"
   ]
  },
  {
   "cell_type": "markdown",
   "metadata": {},
   "source": [
    "## 字符串切片操作"
   ]
  },
  {
   "cell_type": "code",
   "execution_count": 7,
   "metadata": {
    "ExecuteTime": {
     "end_time": "2020-06-05T09:06:05.754472Z",
     "start_time": "2020-06-05T09:06:05.738573Z"
    }
   },
   "outputs": [
    {
     "data": {
      "text/plain": [
       "['1',\n",
       " '2',\n",
       " 'java',\n",
       " '4',\n",
       " 'python',\n",
       " 'java',\n",
       " '7',\n",
       " '8',\n",
       " 'java',\n",
       " 'python',\n",
       " '11',\n",
       " 'java',\n",
       " '13',\n",
       " '14']"
      ]
     },
     "execution_count": 7,
     "metadata": {},
     "output_type": "execute_result"
    }
   ],
   "source": [
    "# 字符串切片操作——查找替换 3 或 5 的倍数\n",
    "[str(\"java\"[i % 3*4:]+\"python\"[i % 5*6:] or i) for i in range(1, 15)]"
   ]
  },
  {
   "cell_type": "markdown",
   "metadata": {},
   "source": [
    "## join 串联字符串"
   ]
  },
  {
   "cell_type": "code",
   "execution_count": 8,
   "metadata": {
    "ExecuteTime": {
     "end_time": "2020-06-05T09:07:42.035931Z",
     "start_time": "2020-06-05T09:07:42.025418Z"
    }
   },
   "outputs": [
    {
     "data": {
      "text/plain": [
       "'1,2,java,4,python,java,7,8,java,python,11,java,13,14'"
      ]
     },
     "execution_count": 8,
     "metadata": {},
     "output_type": "execute_result"
    }
   ],
   "source": [
    "mystr = ['1', '2', 'java', '4', 'python', 'java', '7',\n",
    "         '8', 'java', 'python', '11', 'java', '13', '14']\n",
    "\n",
    "','.join(mystr) # 用逗号连接字符串"
   ]
  },
  {
   "cell_type": "markdown",
   "metadata": {},
   "source": [
    "## 字符串的字节长度"
   ]
  },
  {
   "cell_type": "code",
   "execution_count": 11,
   "metadata": {
    "ExecuteTime": {
     "end_time": "2020-06-05T13:33:48.103541Z",
     "start_time": "2020-06-05T13:33:48.098622Z"
    }
   },
   "outputs": [
    {
     "name": "stdout",
     "output_type": "stream",
     "text": [
      "13\n",
      "6\n"
     ]
    }
   ],
   "source": [
    "def str_byte_len(mystr):\n",
    "    return (len(mystr.encode('utf-8')))\n",
    "\n",
    "\n",
    "print(str_byte_len('i love python'))  # 13(个字节)\n",
    "print(str_byte_len('字符'))  # 6(个字节)"
   ]
  },
  {
   "cell_type": "markdown",
   "metadata": {},
   "source": [
    "以下是正则部分"
   ]
  },
  {
   "cell_type": "markdown",
   "metadata": {},
   "source": [
    "## 查找第一个匹配串"
   ]
  },
  {
   "cell_type": "code",
   "execution_count": 14,
   "metadata": {
    "ExecuteTime": {
     "end_time": "2020-06-05T13:34:48.903013Z",
     "start_time": "2020-06-05T13:34:48.894295Z"
    }
   },
   "outputs": [
    {
     "name": "stdout",
     "output_type": "stream",
     "text": [
      "(7, 13)\n"
     ]
    }
   ],
   "source": [
    "import re\n",
    "s = 'i love python very much'\n",
    "pat = 'python'\n",
    "r = re.search(pat, s)\n",
    "print(r.span())  # (7,13)"
   ]
  },
  {
   "cell_type": "markdown",
   "metadata": {},
   "source": [
    "## 查找所有1的索引"
   ]
  },
  {
   "cell_type": "code",
   "execution_count": 16,
   "metadata": {
    "ExecuteTime": {
     "end_time": "2020-06-05T13:35:29.396829Z",
     "start_time": "2020-06-05T13:35:29.392066Z"
    }
   },
   "outputs": [
    {
     "name": "stdout",
     "output_type": "stream",
     "text": [
      "<_sre.SRE_Match object; span=(10, 11), match='1'>\n",
      "<_sre.SRE_Match object; span=(17, 18), match='1'>\n"
     ]
    }
   ],
   "source": [
    "s = '山东省潍坊市青州第 1 中学高三 1 班'\n",
    "pat = '1'\n",
    "r = re.finditer(pat, s)\n",
    "for i in r:\n",
    "    print(i)"
   ]
  },
  {
   "cell_type": "markdown",
   "metadata": {},
   "source": [
    "## \\d 匹配数字 [0-9]"
   ]
  },
  {
   "cell_type": "code",
   "execution_count": 19,
   "metadata": {
    "ExecuteTime": {
     "end_time": "2020-06-05T13:36:45.949652Z",
     "start_time": "2020-06-05T13:36:45.942096Z"
    }
   },
   "outputs": [
    {
     "name": "stdout",
     "output_type": "stream",
     "text": [
      "['20', '13', '59']\n"
     ]
    }
   ],
   "source": [
    "# findall 找出全部位置的所有匹配\n",
    "\n",
    "s = '一共 20 行代码运行时间 13.59s'\n",
    "pat = r'\\d+' # + 表示匹配数字 (\\d 表示数字的通用字符)1 次或多次 \n",
    "r = re.findall(pat,s)\n",
    "print(r)"
   ]
  },
  {
   "cell_type": "markdown",
   "metadata": {},
   "source": [
    "## 匹配浮点数和整数"
   ]
  },
  {
   "cell_type": "code",
   "execution_count": 20,
   "metadata": {
    "ExecuteTime": {
     "end_time": "2020-06-05T13:37:43.968341Z",
     "start_time": "2020-06-05T13:37:43.958109Z"
    }
   },
   "outputs": [
    {
     "name": "stdout",
     "output_type": "stream",
     "text": [
      "['20', '13.59']\n"
     ]
    }
   ],
   "source": [
    "# ?表示前一个字符匹配0或1次\n",
    "\n",
    "s = '一共 20 行代码运行时间 13.59s'\n",
    "pat = r'\\d+\\.?\\d+' # ? 表示匹配小数点 (\\.)0 次或 1 次，这种写法有个小 bug，不能匹配到个位数的整数\n",
    "r = re.findall(pat,s)\n",
    "print(r)\n",
    "# ['20', '13.59']\n",
    "# 更好的写法:\n",
    "pat = r'\\d+\\.\\d+|\\d+' # A|B，匹配 A 失败才匹配 B"
   ]
  },
  {
   "cell_type": "markdown",
   "metadata": {},
   "source": [
    "## ^ 匹配字符串的开头"
   ]
  },
  {
   "cell_type": "code",
   "execution_count": 23,
   "metadata": {
    "ExecuteTime": {
     "end_time": "2020-06-05T13:41:07.785793Z",
     "start_time": "2020-06-05T13:41:07.776374Z"
    }
   },
   "outputs": [
    {
     "name": "stdout",
     "output_type": "stream",
     "text": [
      "[]\n"
     ]
    },
    {
     "data": {
      "text/plain": [
       "['email for me is guozhennianhua@163.com']"
      ]
     },
     "execution_count": 23,
     "metadata": {},
     "output_type": "execute_result"
    }
   ],
   "source": [
    "s = 'This module provides regular expression matching operations similar to those found in Perl'\n",
    "pat = r'^[emrt]'  # 查找以字符 e,m,r 或 t 开始的字符串\n",
    "r = re.findall(pat, s)\n",
    "print(r)  # []\n",
    "# 因为字符串的开头是字符`T`，不在 emrt 匹配范围内，所以返回为空\n",
    "s2 = 'email for me is guozhennianhua@163.com'\n",
    "re.findall('^[emrt].*', s2)  # 匹配以 e,m,r,t 开始的字符串，后面是多个任意字符\n",
    "# Out[11]: ['email for me is guozhennianhua@163.com']"
   ]
  },
  {
   "cell_type": "markdown",
   "metadata": {},
   "source": [
    "## re.I 忽略大小写"
   ]
  },
  {
   "cell_type": "code",
   "execution_count": 25,
   "metadata": {
    "ExecuteTime": {
     "end_time": "2020-06-05T16:49:04.115158Z",
     "start_time": "2020-06-05T16:49:04.108821Z"
    }
   },
   "outputs": [
    {
     "data": {
      "text/plain": [
       "['T', 't']"
      ]
     },
     "execution_count": 25,
     "metadata": {},
     "output_type": "execute_result"
    }
   ],
   "source": [
    "s = 'That'\n",
    "pat = r't'\n",
    "r = re.findall(pat, s, re.I)\n",
    "r\n",
    "# Out[22]: ['T', 't']"
   ]
  },
  {
   "cell_type": "markdown",
   "metadata": {},
   "source": [
    "## 理解 compile 的作用"
   ]
  },
  {
   "cell_type": "code",
   "execution_count": 7,
   "metadata": {
    "ExecuteTime": {
     "end_time": "2020-06-07T09:32:01.997731Z",
     "start_time": "2020-06-07T09:32:01.993114Z"
    }
   },
   "outputs": [
    {
     "name": "stdout",
     "output_type": "stream",
     "text": [
      "str contains special characters:#\n"
     ]
    }
   ],
   "source": [
    "import re\n",
    "\n",
    "pat = re.compile('\\W+')  # \\W 匹配不是数字和字母的字符\n",
    "has_special_chars = pat.search('ed#2@edc')\n",
    "if has_special_chars:\n",
    "    print(f'str contains special characters:{has_special_chars.group(0)}')"
   ]
  },
  {
   "cell_type": "code",
   "execution_count": 8,
   "metadata": {
    "ExecuteTime": {
     "end_time": "2020-06-07T09:32:03.472841Z",
     "start_time": "2020-06-07T09:32:03.464380Z"
    }
   },
   "outputs": [
    {
     "name": "stdout",
     "output_type": "stream",
     "text": [
      "possibly it is an email\n"
     ]
    }
   ],
   "source": [
    "## 再次使用 pat 正则编译对象 做匹配\n",
    "again_pattern = pat.findall('guozhennianhua@163.com') \n",
    "if '@' in again_pattern:\n",
    "    print('possibly it is an email')"
   ]
  },
  {
   "cell_type": "markdown",
   "metadata": {},
   "source": [
    "## 使用 () 捕获单词，不想带空格"
   ]
  },
  {
   "cell_type": "code",
   "execution_count": 11,
   "metadata": {
    "ExecuteTime": {
     "end_time": "2020-06-07T10:35:22.873070Z",
     "start_time": "2020-06-07T10:35:22.866809Z"
    }
   },
   "outputs": [
    {
     "name": "stdout",
     "output_type": "stream",
     "text": [
      "['This', 'module', 'provides', 'regular', 'expression', 'matching', 'operations', 'similar', 'to', 'those', 'found', 'in', 'Perl']\n"
     ]
    }
   ],
   "source": [
    "s = 'This module provides regular expression matching operations similar to those found in Perl'\n",
    "pat = r'\\s?([a-zA-Z]+)'\n",
    "r = re.findall(pat,s)\n",
    "print(r)"
   ]
  },
  {
   "cell_type": "markdown",
   "metadata": {},
   "source": [
    "## split 分割单词"
   ]
  },
  {
   "cell_type": "code",
   "execution_count": 12,
   "metadata": {
    "ExecuteTime": {
     "end_time": "2020-06-07T10:36:03.178751Z",
     "start_time": "2020-06-07T10:36:03.172954Z"
    }
   },
   "outputs": [
    {
     "name": "stdout",
     "output_type": "stream",
     "text": [
      "['This', 'module', 'provides', 'regular', 'expression', 'matching', 'operations', 'similar', 'to', 'those', 'found', 'in', 'Perl']\n"
     ]
    }
   ],
   "source": [
    "s = 'This module provides regular expression matching operations similar to those found in Perl'\n",
    "pat = r'\\s+'\n",
    "r = re.split(pat,s)\n",
    "print(r)"
   ]
  },
  {
   "cell_type": "code",
   "execution_count": 13,
   "metadata": {
    "ExecuteTime": {
     "end_time": "2020-06-07T10:36:39.036778Z",
     "start_time": "2020-06-07T10:36:39.024593Z"
    }
   },
   "outputs": [
    {
     "data": {
      "text/plain": [
       "['This',\n",
       " 'module',\n",
       " 'provides',\n",
       " 'regular',\n",
       " 'expression',\n",
       " 'matching',\n",
       " 'operations',\n",
       " 'similar',\n",
       " 'to',\n",
       " 'those',\n",
       " 'found',\n",
       " 'in',\n",
       " 'Perl']"
      ]
     },
     "execution_count": 13,
     "metadata": {},
     "output_type": "execute_result"
    }
   ],
   "source": [
    "### 上面这句话也可直接使用 str 自带的 split 函数: \n",
    "s.split(' ') # 使用空格分隔"
   ]
  },
  {
   "cell_type": "code",
   "execution_count": 17,
   "metadata": {
    "ExecuteTime": {
     "end_time": "2020-06-07T10:37:24.723620Z",
     "start_time": "2020-06-07T10:37:24.689383Z"
    }
   },
   "outputs": [
    {
     "name": "stdout",
     "output_type": "stream",
     "text": [
      "['This', 'module', 'provides', 'regular', '']\n",
      "['This', 'module', 'provides', 'regular']\n"
     ]
    }
   ],
   "source": [
    "### 但是，对于风格符更加复杂的情况，split 无能为力，只能使用正则\n",
    "s = 'This,,, module ; \\t provides|| regular ; '\n",
    "words = re.split('[,\\s;|]+',s) # 这样分隔出来，最后会有一个空字符串 \n",
    "print(words)\n",
    "words = [i for i in words if len(i)>0]\n",
    "print(words)"
   ]
  },
  {
   "cell_type": "markdown",
   "metadata": {},
   "source": [
    "## match 从字符串开始位置匹配"
   ]
  },
  {
   "cell_type": "markdown",
   "metadata": {},
   "source": [
    "注意 match,search等的不同:"
   ]
  },
  {
   "cell_type": "code",
   "execution_count": 19,
   "metadata": {
    "ExecuteTime": {
     "end_time": "2020-06-07T10:45:34.966402Z",
     "start_time": "2020-06-07T10:45:34.960513Z"
    }
   },
   "outputs": [],
   "source": [
    "import re\n",
    "# match\n",
    "mystr = 'This'\n",
    "pat = re.compile('hi')\n",
    "pat.match(mystr)  # None"
   ]
  },
  {
   "cell_type": "code",
   "execution_count": 20,
   "metadata": {
    "ExecuteTime": {
     "end_time": "2020-06-07T10:45:37.230791Z",
     "start_time": "2020-06-07T10:45:37.225114Z"
    }
   },
   "outputs": [
    {
     "data": {
      "text/plain": [
       "<_sre.SRE_Match object; span=(1, 3), match='hi'>"
      ]
     },
     "execution_count": 20,
     "metadata": {},
     "output_type": "execute_result"
    }
   ],
   "source": [
    "pat.match(mystr, 1)  # 从位置 1 处开始匹配"
   ]
  },
  {
   "cell_type": "markdown",
   "metadata": {
    "ExecuteTime": {
     "end_time": "2020-06-07T10:46:01.883542Z",
     "start_time": "2020-06-07T10:46:01.877929Z"
    }
   },
   "source": [
    " search 是从字符串的任意位置开始匹配"
   ]
  },
  {
   "cell_type": "code",
   "execution_count": 22,
   "metadata": {
    "ExecuteTime": {
     "end_time": "2020-06-07T10:46:40.997630Z",
     "start_time": "2020-06-07T10:46:40.991539Z"
    }
   },
   "outputs": [
    {
     "data": {
      "text/plain": [
       "<_sre.SRE_Match object; span=(1, 3), match='hi'>"
      ]
     },
     "execution_count": 22,
     "metadata": {},
     "output_type": "execute_result"
    }
   ],
   "source": [
    "mystr = 'This'\n",
    "pat = re.compile('hi')\n",
    "pat.search(mystr)"
   ]
  },
  {
   "cell_type": "markdown",
   "metadata": {},
   "source": [
    "## 替换匹配的子串"
   ]
  },
  {
   "cell_type": "markdown",
   "metadata": {},
   "source": [
    "sub 函数实现对匹配子串的替换"
   ]
  },
  {
   "cell_type": "code",
   "execution_count": 23,
   "metadata": {
    "ExecuteTime": {
     "end_time": "2020-06-07T10:51:09.982399Z",
     "start_time": "2020-06-07T10:51:09.976873Z"
    }
   },
   "outputs": [
    {
     "name": "stdout",
     "output_type": "stream",
     "text": [
      "hello 666, hello 666\n"
     ]
    }
   ],
   "source": [
    "content=\"hello 12345, hello 456321\" \n",
    "pat=re.compile(r'\\d+') # 要替换的部分 \n",
    "m=pat.sub(\"666\",content)\n",
    "print(m) # hello 666, hello 666"
   ]
  },
  {
   "cell_type": "markdown",
   "metadata": {},
   "source": [
    "## 贪心捕获"
   ]
  },
  {
   "cell_type": "markdown",
   "metadata": {},
   "source": [
    "(.*) 表示捕获任意多个字符，尽可能多的匹配字符"
   ]
  },
  {
   "cell_type": "code",
   "execution_count": 24,
   "metadata": {
    "ExecuteTime": {
     "end_time": "2020-06-07T10:52:34.275729Z",
     "start_time": "2020-06-07T10:52:34.267701Z"
    }
   },
   "outputs": [
    {
     "name": "stdout",
     "output_type": "stream",
     "text": [
      "['graph</div>bb<div>math']\n"
     ]
    }
   ],
   "source": [
    "content='<h>ddedadsad</h><div>graph</div>bb<div>math</div>cc'\n",
    "pat=re.compile(r\"<div>(.*)</div>\") # 贪婪模式 \n",
    "m=pat.findall(content)\n",
    "print(m)"
   ]
  },
  {
   "cell_type": "markdown",
   "metadata": {},
   "source": [
    "## 非贪心捕获"
   ]
  },
  {
   "cell_type": "markdown",
   "metadata": {},
   "source": [
    "仅添加一个问号 (?)，得到结果完全不同，这是非贪心匹配，通过这个例子体会贪心和非贪心的匹配的不同。"
   ]
  },
  {
   "cell_type": "code",
   "execution_count": 25,
   "metadata": {
    "ExecuteTime": {
     "end_time": "2020-06-07T10:57:06.162651Z",
     "start_time": "2020-06-07T10:57:06.156338Z"
    }
   },
   "outputs": [
    {
     "name": "stdout",
     "output_type": "stream",
     "text": [
      "['graph', 'math']\n"
     ]
    }
   ],
   "source": [
    "content='<h>ddedadsad</h><div>graph</div>bb<div>math</div>cc' \n",
    "pat=re.compile(r\"<div>(.*?)</div>\")\n",
    "m=pat.findall(content)\n",
    "print(m)"
   ]
  },
  {
   "cell_type": "markdown",
   "metadata": {},
   "source": [
    "## 常用元字符总结"
   ]
  },
  {
   "cell_type": "markdown",
   "metadata": {},
   "source": [
    "- . 匹配任意字符\n",
    "- ^ 匹配字符串开始位置\n",
    "- $ 匹配字符串中结束的位置\n",
    "- \\* 前面的原子重复 0 次、1 次、多次\n",
    "- ? 前面的原子重复 0 次或者 1 次\n",
    "- \\+ 前面的原子重复 1 次或多次\n",
    "- {n} 前面的原子出现了 n 次\n",
    "- {n,} 前面的原子至少出现 n 次\n",
    "- {n,m} 前面的原子出现次数介于 n-m 之间 ( ) 分组, 需要输出的部分"
   ]
  },
  {
   "cell_type": "markdown",
   "metadata": {},
   "source": [
    "## 常用通用字符总结"
   ]
  },
  {
   "cell_type": "markdown",
   "metadata": {},
   "source": [
    "- \\s 匹配空白字符\n",
    "- \\w 匹配任意字母/数字/下划线\n",
    "- \\W 和小写 w 相反，匹配任意字母/数字/下划线以外的字符 \\d 匹配十进制数字\n",
    "- \\D 匹配除了十进制数以外的值\n",
    "- [0-9] 匹配一个 0-9 之间的数字\n",
    "- [a-z] 匹配小写英文字母\n",
    "- [A-Z] 匹配大写英文字母"
   ]
  },
  {
   "cell_type": "markdown",
   "metadata": {},
   "source": [
    "## 爬取百度首页标题"
   ]
  },
  {
   "cell_type": "code",
   "execution_count": 28,
   "metadata": {
    "ExecuteTime": {
     "end_time": "2020-06-07T11:01:47.277434Z",
     "start_time": "2020-06-07T11:01:47.110401Z"
    }
   },
   "outputs": [
    {
     "name": "stdout",
     "output_type": "stream",
     "text": [
      "<_sre.SRE_Match object; span=(940, 964), match='<title>百度一下，你就知道</title>'>\n"
     ]
    },
    {
     "data": {
      "text/plain": [
       "'<title>百度一下，你就知道</title>'"
      ]
     },
     "execution_count": 28,
     "metadata": {},
     "output_type": "execute_result"
    }
   ],
   "source": [
    "import re\n",
    "from urllib import request\n",
    "# 爬虫爬取百度首页内容 \n",
    "data=request.urlopen(\"http://www.baidu.com/\").read().decode()\n",
    "# 分析网页, 确定正则表达式 \n",
    "pat=r'<title>(.*?)</title>'\n",
    "result = re.search(pat, data)\n",
    "print(result)\n",
    "# <re.Match object; span=(1358, 1382), match='<title> 百 度一下，你就知道</title>'>\n",
    "result.group()  # 百度一下，你就知道"
   ]
  },
  {
   "cell_type": "markdown",
   "metadata": {},
   "source": [
    "## 批量转化为驼峰格式 (Camel)"
   ]
  },
  {
   "cell_type": "markdown",
   "metadata": {},
   "source": [
    "数据库字段名批量转化为驼峰格式"
   ]
  },
  {
   "cell_type": "code",
   "execution_count": 29,
   "metadata": {
    "ExecuteTime": {
     "end_time": "2020-06-07T11:11:56.048721Z",
     "start_time": "2020-06-07T11:11:56.045675Z"
    }
   },
   "outputs": [],
   "source": [
    "# 用到的正则串讲解\n",
    "# \\s 指匹配: [ \\t\\n\\r\\f\\v]\n",
    "# A|B:表示匹配 A 串或 B 串\n",
    "# re.sub(pattern, newchar, string):\n",
    "# substitue 代替，用 newchar 字符替代与 pattern 匹配的字符所有."
   ]
  },
  {
   "cell_type": "code",
   "execution_count": 30,
   "metadata": {
    "ExecuteTime": {
     "end_time": "2020-06-07T11:12:02.272734Z",
     "start_time": "2020-06-07T11:12:02.269869Z"
    }
   },
   "outputs": [],
   "source": [
    "# title(): 转化为大写，例子:\n",
    "# 'Hello world'.title() # 'Hello World'"
   ]
  },
  {
   "cell_type": "code",
   "execution_count": 31,
   "metadata": {
    "ExecuteTime": {
     "end_time": "2020-06-07T11:12:34.723606Z",
     "start_time": "2020-06-07T11:12:34.719000Z"
    }
   },
   "outputs": [],
   "source": [
    "# print(re.sub(r\"\\s|_|\", \"\", \"He llo_worl\\td\"))\n",
    "s = re.sub(r\"(\\s|_|-)+\", \" \", 'some_database_field_name').title().replace(\" \", \"\")\n",
    "# 结果: SomeDatabaseFieldName"
   ]
  },
  {
   "cell_type": "code",
   "execution_count": 32,
   "metadata": {
    "ExecuteTime": {
     "end_time": "2020-06-07T11:13:15.836472Z",
     "start_time": "2020-06-07T11:13:15.829832Z"
    }
   },
   "outputs": [],
   "source": [
    "import re\n",
    "\n",
    "\n",
    "def camel(s):\n",
    "    s = re.sub(r\"(\\s|_|-)+\", \" \", s).title().replace(\" \", \"\")\n",
    "    return s[0].lower() + s[1:]\n",
    "# 批量转化\n",
    "\n",
    "\n",
    "def batch_camel(slist):\n",
    "    return [camel(s) for s in slist]"
   ]
  },
  {
   "cell_type": "markdown",
   "metadata": {},
   "source": [
    "测试结果"
   ]
  },
  {
   "cell_type": "code",
   "execution_count": 34,
   "metadata": {
    "ExecuteTime": {
     "end_time": "2020-06-07T11:13:28.672444Z",
     "start_time": "2020-06-07T11:13:28.668178Z"
    }
   },
   "outputs": [
    {
     "name": "stdout",
     "output_type": "stream",
     "text": [
      "['studentId', 'studentName', 'studentAdd']\n"
     ]
    }
   ],
   "source": [
    "s = batch_camel(['student_id', 'student\\tname', 'student-add']) \n",
    "print(s)"
   ]
  },
  {
   "cell_type": "markdown",
   "metadata": {},
   "source": [
    "## 密码安全检查"
   ]
  },
  {
   "cell_type": "markdown",
   "metadata": {},
   "source": [
    "密码安全要求:\n",
    "\n",
    "1) 要求密码为 6 到 20 位; \n",
    "\n",
    "2) 密码只包含英文字母和数字"
   ]
  },
  {
   "cell_type": "code",
   "execution_count": 35,
   "metadata": {
    "ExecuteTime": {
     "end_time": "2020-06-07T11:14:52.146876Z",
     "start_time": "2020-06-07T11:14:52.142806Z"
    }
   },
   "outputs": [],
   "source": [
    "pat = re.compile(r'\\w{6,20}') # 这是错误的，因为\\w 通配符匹配的是字母，数字和下 划线，题目要求不能含有下划线\n",
    "# 使用最稳的方法:\\da-zA-Z 满足`密码只包含英文字母和数字`\n",
    "pat = re.compile(r'[\\da-zA-Z]{6,20}')"
   ]
  },
  {
   "cell_type": "markdown",
   "metadata": {},
   "source": [
    "选用最保险的 fullmatch方法，查看是否整个字符串都匹配:"
   ]
  },
  {
   "cell_type": "code",
   "execution_count": 41,
   "metadata": {
    "ExecuteTime": {
     "end_time": "2020-06-07T11:15:38.493181Z",
     "start_time": "2020-06-07T11:15:38.483408Z"
    }
   },
   "outputs": [
    {
     "data": {
      "text/plain": [
       "<_sre.SRE_Match object; span=(0, 10), match='n0passw0Rd'>"
      ]
     },
     "execution_count": 41,
     "metadata": {},
     "output_type": "execute_result"
    }
   ],
   "source": [
    "pat.fullmatch('qaz12') # 返回 None, 长度小于 6 \n",
    "pat.fullmatch('qaz12wsxedcrfvtgb67890942234343434') # None 长度大于 22 \n",
    "pat.fullmatch('qaz_231') # None 含有下划线\n",
    "pat.fullmatch('n0passw0Rd')\n"
   ]
  },
  {
   "cell_type": "markdown",
   "metadata": {},
   "source": [
    "# PYTHON 文件和日期"
   ]
  },
  {
   "cell_type": "markdown",
   "metadata": {
    "ExecuteTime": {
     "end_time": "2020-06-08T04:33:15.046271Z",
     "start_time": "2020-06-08T04:33:15.029461Z"
    }
   },
   "source": [
    "Python 文件 IO 操作涉及文件读写操作，获取文件后缀名，修改后缀名，获取文件修改时间，压缩文件，加密文件等操作。\n",
    "\n",
    "Python 日期章节，由表示大日期的 calendar, date 模块，逐渐过渡到表示时间刻度更小的模块:datetime, time 模块，按照此逻辑展开。 一共总结最常用的 24个关于文件和时间处理模块的例子。"
   ]
  },
  {
   "cell_type": "markdown",
   "metadata": {},
   "source": [
    "## 获取后缀名"
   ]
  },
  {
   "cell_type": "code",
   "execution_count": 2,
   "metadata": {
    "ExecuteTime": {
     "end_time": "2020-06-08T04:35:37.779601Z",
     "start_time": "2020-06-08T04:35:37.774239Z"
    }
   },
   "outputs": [
    {
     "name": "stdout",
     "output_type": "stream",
     "text": [
      "./data/py/test\n",
      ".py\n"
     ]
    }
   ],
   "source": [
    "import os\n",
    "file_ext = os.path.splitext('./data/py/test.py')\n",
    "front, ext = file_ext\n",
    "print(front)\n",
    "print(ext)"
   ]
  },
  {
   "cell_type": "markdown",
   "metadata": {},
   "source": [
    "## 文件读操作"
   ]
  },
  {
   "cell_type": "code",
   "execution_count": 3,
   "metadata": {
    "ExecuteTime": {
     "end_time": "2020-06-08T04:37:00.332785Z",
     "start_time": "2020-06-08T04:37:00.326825Z"
    }
   },
   "outputs": [],
   "source": [
    "import os  # 创建文件夹\n",
    "\n",
    "\n",
    "def mkdir(path):\n",
    "    isexists = os.path.exists(path)\n",
    "    if not isexists:\n",
    "        os.mkdir(path)  # 读取文件信息\n",
    "\n",
    "\n",
    "def openfile(filename):\n",
    "    f = open(filename)\n",
    "    fllist = f.read()\n",
    "    f.close()\n",
    "    return fllist  # 返回读取内容"
   ]
  },
  {
   "cell_type": "markdown",
   "metadata": {},
   "source": [
    "## 文件写操作"
   ]
  },
  {
   "cell_type": "code",
   "execution_count": 4,
   "metadata": {
    "ExecuteTime": {
     "end_time": "2020-06-08T04:37:56.264386Z",
     "start_time": "2020-06-08T04:37:56.175197Z"
    }
   },
   "outputs": [
    {
     "ename": "FileNotFoundError",
     "evalue": "[Errno 2] No such file or directory: './data/test.txt'",
     "output_type": "error",
     "traceback": [
      "\u001b[0;31m---------------------------------------------------------------------------\u001b[0m",
      "\u001b[0;31mFileNotFoundError\u001b[0m                         Traceback (most recent call last)",
      "\u001b[0;32m<ipython-input-4-3aee7fb546e3>\u001b[0m in \u001b[0;36m<module>\u001b[0;34m\u001b[0m\n\u001b[1;32m      2\u001b[0m \u001b[0;31m# example1\u001b[0m\u001b[0;34m\u001b[0m\u001b[0;34m\u001b[0m\u001b[0;34m\u001b[0m\u001b[0m\n\u001b[1;32m      3\u001b[0m \u001b[0;31m# w 写入，如果文件存在，则清空内容后写入，不存在则创建\u001b[0m\u001b[0;34m\u001b[0m\u001b[0;34m\u001b[0m\u001b[0;34m\u001b[0m\u001b[0m\n\u001b[0;32m----> 4\u001b[0;31m \u001b[0mf\u001b[0m \u001b[0;34m=\u001b[0m \u001b[0mopen\u001b[0m\u001b[0;34m(\u001b[0m\u001b[0;34mr\"./data/test.txt\"\u001b[0m\u001b[0;34m,\u001b[0m \u001b[0;34m\"w\"\u001b[0m\u001b[0;34m,\u001b[0m \u001b[0mencoding\u001b[0m\u001b[0;34m=\u001b[0m\u001b[0;34m\"utf-8\"\u001b[0m\u001b[0;34m)\u001b[0m\u001b[0;34m\u001b[0m\u001b[0;34m\u001b[0m\u001b[0m\n\u001b[0m\u001b[1;32m      5\u001b[0m \u001b[0mprint\u001b[0m\u001b[0;34m(\u001b[0m\u001b[0mf\u001b[0m\u001b[0;34m.\u001b[0m\u001b[0mwrite\u001b[0m\u001b[0;34m(\u001b[0m\u001b[0;34m\"测试文件写入\"\u001b[0m\u001b[0;34m)\u001b[0m\u001b[0;34m)\u001b[0m\u001b[0;34m\u001b[0m\u001b[0;34m\u001b[0m\u001b[0m\n\u001b[1;32m      6\u001b[0m \u001b[0mf\u001b[0m\u001b[0;34m.\u001b[0m\u001b[0mclose\u001b[0m\u001b[0;34m\u001b[0m\u001b[0;34m\u001b[0m\u001b[0m\n",
      "\u001b[0;31mFileNotFoundError\u001b[0m: [Errno 2] No such file or directory: './data/test.txt'"
     ]
    }
   ],
   "source": [
    "# 写入文件信息\n",
    "# example1\n",
    "# w 写入，如果文件存在，则清空内容后写入，不存在则创建\n",
    "f = open(r\"./data/test.txt\", \"w\", encoding=\"utf-8\")\n",
    "print(f.write(\"测试文件写入\"))\n",
    "f.close\n",
    "\n",
    "# example2\n",
    "# a 写入，文件存在，则在文件内容后追加写入，不存在则创建\n",
    "f = open(r\"./data/test.txt\", \"a\", encoding=\"utf-8\")\n",
    "print(f.write(\"测试文件写入\"))\n",
    "f.close\n",
    "\n",
    "# example3\n",
    "# with 关键字系统会自动关闭文件和处理异常\n",
    "with open(r\"./data/test.txt\", \"w\") as f:\n",
    "    f.write(\"hello world!\")"
   ]
  },
  {
   "cell_type": "markdown",
   "metadata": {},
   "source": [
    "## 路径中的文件名"
   ]
  },
  {
   "cell_type": "code",
   "execution_count": 6,
   "metadata": {
    "ExecuteTime": {
     "end_time": "2020-06-08T04:39:11.113880Z",
     "start_time": "2020-06-08T04:39:11.101100Z"
    }
   },
   "outputs": [
    {
     "name": "stdout",
     "output_type": "stream",
     "text": [
      "('./data/py', 'test.py')\n",
      "./data/py\n",
      "test.py\n"
     ]
    }
   ],
   "source": [
    "import os\n",
    "file_ext = os.path.split('./data/py/test.py')\n",
    "print(file_ext)\n",
    "ipath,ifile = file_ext\n",
    "print(ipath)\n",
    "print(ifile)"
   ]
  },
  {
   "cell_type": "markdown",
   "metadata": {},
   "source": [
    "## 批量修改文件后缀"
   ]
  },
  {
   "cell_type": "markdown",
   "metadata": {},
   "source": [
    "批量修改文件后缀\n",
    "\n",
    "本例子使用 Python 的 os 模块和 argparse 模块，将工作目录 work_dir 下所 有后缀名为 old_ext的文件修为后缀名为 new_ext\n",
    "\n",
    "通过本例子，大家将会大概清楚 argparse模块的主要用法。\n",
    "\n",
    "导入模块"
   ]
  },
  {
   "cell_type": "code",
   "execution_count": 7,
   "metadata": {
    "ExecuteTime": {
     "end_time": "2020-06-08T04:52:08.279261Z",
     "start_time": "2020-06-08T04:52:08.276474Z"
    }
   },
   "outputs": [],
   "source": [
    "import argparse\n",
    "import os"
   ]
  },
  {
   "cell_type": "markdown",
   "metadata": {},
   "source": [
    "定义脚本参数"
   ]
  },
  {
   "cell_type": "code",
   "execution_count": 9,
   "metadata": {
    "ExecuteTime": {
     "end_time": "2020-06-08T04:53:43.487032Z",
     "start_time": "2020-06-08T04:53:43.481902Z"
    }
   },
   "outputs": [],
   "source": [
    "def get_parser():\n",
    "    parser = argparse.ArgumentParser(description='工作目录中文件后缀名修改')\n",
    "    parser.add_argument('work_dir', metavar='WORK_DIR',\n",
    "                        type=str, nargs=1, help='修改后缀名的文件目录')\n",
    "    parser.add_argument('old_ext', metavar='OLD_EXT',\n",
    "                        type=str, nargs=1, help='原来的后缀')\n",
    "    parser.add_argument('new_ext', metavar='NEW_EXT',\n",
    "                        type=str, nargs=1, help='新的后缀')\n",
    "    return parser"
   ]
  },
  {
   "cell_type": "markdown",
   "metadata": {},
   "source": [
    "后缀名批量修改"
   ]
  },
  {
   "cell_type": "code",
   "execution_count": 10,
   "metadata": {
    "ExecuteTime": {
     "end_time": "2020-06-08T04:55:21.693380Z",
     "start_time": "2020-06-08T04:55:21.687544Z"
    }
   },
   "outputs": [],
   "source": [
    "def batch_rename(work_dir, old_ext, new_ext):\n",
    "    \"\"\"\n",
    "   传递当前目录，原来后缀名，新的后缀名后，批量重命名后缀\n",
    "   \"\"\"\n",
    "    for filename in os.listdir(work_dir):  # 获取得到文件后缀\n",
    "        split_file = os.path.splitext(filename)\n",
    "        file_ext = split_file[1]\n",
    "        # 定位后缀名为 old_ext 的文件\n",
    "        if old_ext == file_ext:\n",
    "            # 修改后文件的完整名称\n",
    "            newfile = split_file[0] + new_ext  # 实现重命名操作\n",
    "            os.rename(\n",
    "                os.path.join(work_dir, filename),\n",
    "                os.path.join(work_dir, newfile))\n",
    "    print(\"完成重命名\")\n",
    "    print(os.listdir(work_dir))"
   ]
  },
  {
   "cell_type": "markdown",
   "metadata": {},
   "source": [
    "实现 Main"
   ]
  },
  {
   "cell_type": "code",
   "execution_count": null,
   "metadata": {},
   "outputs": [],
   "source": []
  }
 ],
 "metadata": {
  "kernelspec": {
   "display_name": "Python 3",
   "language": "python",
   "name": "python3"
  },
  "language_info": {
   "codemirror_mode": {
    "name": "ipython",
    "version": 3
   },
   "file_extension": ".py",
   "mimetype": "text/x-python",
   "name": "python",
   "nbconvert_exporter": "python",
   "pygments_lexer": "ipython3",
   "version": "3.6.9"
  },
  "toc": {
   "base_numbering": 1,
   "nav_menu": {},
   "number_sections": true,
   "sideBar": true,
   "skip_h1_title": false,
   "title_cell": "Table of Contents",
   "title_sidebar": "Contents",
   "toc_cell": false,
   "toc_position": {
    "height": "calc(100% - 180px)",
    "left": "10px",
    "top": "150px",
    "width": "287.9891357421875px"
   },
   "toc_section_display": true,
   "toc_window_display": true
  }
 },
 "nbformat": 4,
 "nbformat_minor": 2
}
